{
  "nbformat": 4,
  "nbformat_minor": 0,
  "metadata": {
    "colab": {
      "name": "JogoPontinhos.ipynb",
      "provenance": [],
      "collapsed_sections": []
    },
    "kernelspec": {
      "name": "python3",
      "display_name": "Python 3"
    },
    "widgets": {
      "application/vnd.jupyter.widget-state+json": {
        "d5162292d8a34b2eb2ee0600ada5bdbc": {
          "model_module": "@jupyter-widgets/controls",
          "model_name": "VBoxModel",
          "state": {
            "_view_name": "VBoxView",
            "_dom_classes": [
              "widget-interact"
            ],
            "_model_name": "VBoxModel",
            "_view_module": "@jupyter-widgets/controls",
            "_model_module_version": "1.5.0",
            "_view_count": null,
            "_view_module_version": "1.5.0",
            "box_style": "",
            "layout": "IPY_MODEL_48fb1b8242d0453d8649f29383e7328d",
            "_model_module": "@jupyter-widgets/controls",
            "children": [
              "IPY_MODEL_b83418d9d7634465b6b94dcc636bae17",
              "IPY_MODEL_7dfeb3bd955c4b28b173faae2df03917"
            ]
          }
        },
        "48fb1b8242d0453d8649f29383e7328d": {
          "model_module": "@jupyter-widgets/base",
          "model_name": "LayoutModel",
          "state": {
            "_view_name": "LayoutView",
            "grid_template_rows": null,
            "right": null,
            "justify_content": null,
            "_view_module": "@jupyter-widgets/base",
            "overflow": null,
            "_model_module_version": "1.2.0",
            "_view_count": null,
            "flex_flow": null,
            "width": null,
            "min_width": null,
            "border": null,
            "align_items": null,
            "bottom": null,
            "_model_module": "@jupyter-widgets/base",
            "top": null,
            "grid_column": null,
            "overflow_y": null,
            "overflow_x": null,
            "grid_auto_flow": null,
            "grid_area": null,
            "grid_template_columns": null,
            "flex": null,
            "_model_name": "LayoutModel",
            "justify_items": null,
            "grid_row": null,
            "max_height": null,
            "align_content": null,
            "visibility": null,
            "align_self": null,
            "height": null,
            "min_height": null,
            "padding": null,
            "grid_auto_rows": null,
            "grid_gap": null,
            "max_width": null,
            "order": null,
            "_view_module_version": "1.2.0",
            "grid_template_areas": null,
            "object_position": null,
            "object_fit": null,
            "grid_auto_columns": null,
            "margin": null,
            "display": null,
            "left": null
          }
        },
        "b83418d9d7634465b6b94dcc636bae17": {
          "model_module": "@jupyter-widgets/controls",
          "model_name": "IntSliderModel",
          "state": {
            "_view_name": "IntSliderView",
            "style": "IPY_MODEL_5735b9c0a32947feabafd246c6618a35",
            "_dom_classes": [],
            "description": "frame",
            "step": 1,
            "_model_name": "IntSliderModel",
            "orientation": "horizontal",
            "max": 23,
            "_view_module": "@jupyter-widgets/controls",
            "_model_module_version": "1.5.0",
            "value": 11,
            "_view_count": null,
            "disabled": false,
            "_view_module_version": "1.5.0",
            "min": 0,
            "continuous_update": true,
            "readout_format": "d",
            "description_tooltip": null,
            "readout": true,
            "_model_module": "@jupyter-widgets/controls",
            "layout": "IPY_MODEL_8bcc5a3126de43b486a33a8539ffb10c"
          }
        },
        "7dfeb3bd955c4b28b173faae2df03917": {
          "model_module": "@jupyter-widgets/output",
          "model_name": "OutputModel",
          "state": {
            "_view_name": "OutputView",
            "msg_id": "",
            "_dom_classes": [],
            "_model_name": "OutputModel",
            "outputs": [
              {
                "output_type": "display_data",
                "metadata": {
                  "tags": []
                },
                "image/png": "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\n",
                "text/plain": "<PIL.Image.Image image mode=RGB size=200x200 at 0x7F63A8E842B0>"
              }
            ],
            "_view_module": "@jupyter-widgets/output",
            "_model_module_version": "1.0.0",
            "_view_count": null,
            "_view_module_version": "1.0.0",
            "layout": "IPY_MODEL_e8db5b9f1d344d51a3fb287034be7b52",
            "_model_module": "@jupyter-widgets/output"
          }
        },
        "5735b9c0a32947feabafd246c6618a35": {
          "model_module": "@jupyter-widgets/controls",
          "model_name": "SliderStyleModel",
          "state": {
            "_view_name": "StyleView",
            "handle_color": null,
            "_model_name": "SliderStyleModel",
            "description_width": "",
            "_view_module": "@jupyter-widgets/base",
            "_model_module_version": "1.5.0",
            "_view_count": null,
            "_view_module_version": "1.2.0",
            "_model_module": "@jupyter-widgets/controls"
          }
        },
        "8bcc5a3126de43b486a33a8539ffb10c": {
          "model_module": "@jupyter-widgets/base",
          "model_name": "LayoutModel",
          "state": {
            "_view_name": "LayoutView",
            "grid_template_rows": null,
            "right": null,
            "justify_content": null,
            "_view_module": "@jupyter-widgets/base",
            "overflow": null,
            "_model_module_version": "1.2.0",
            "_view_count": null,
            "flex_flow": null,
            "width": null,
            "min_width": null,
            "border": null,
            "align_items": null,
            "bottom": null,
            "_model_module": "@jupyter-widgets/base",
            "top": null,
            "grid_column": null,
            "overflow_y": null,
            "overflow_x": null,
            "grid_auto_flow": null,
            "grid_area": null,
            "grid_template_columns": null,
            "flex": null,
            "_model_name": "LayoutModel",
            "justify_items": null,
            "grid_row": null,
            "max_height": null,
            "align_content": null,
            "visibility": null,
            "align_self": null,
            "height": null,
            "min_height": null,
            "padding": null,
            "grid_auto_rows": null,
            "grid_gap": null,
            "max_width": null,
            "order": null,
            "_view_module_version": "1.2.0",
            "grid_template_areas": null,
            "object_position": null,
            "object_fit": null,
            "grid_auto_columns": null,
            "margin": null,
            "display": null,
            "left": null
          }
        },
        "e8db5b9f1d344d51a3fb287034be7b52": {
          "model_module": "@jupyter-widgets/base",
          "model_name": "LayoutModel",
          "state": {
            "_view_name": "LayoutView",
            "grid_template_rows": null,
            "right": null,
            "justify_content": null,
            "_view_module": "@jupyter-widgets/base",
            "overflow": null,
            "_model_module_version": "1.2.0",
            "_view_count": null,
            "flex_flow": null,
            "width": null,
            "min_width": null,
            "border": null,
            "align_items": null,
            "bottom": null,
            "_model_module": "@jupyter-widgets/base",
            "top": null,
            "grid_column": null,
            "overflow_y": null,
            "overflow_x": null,
            "grid_auto_flow": null,
            "grid_area": null,
            "grid_template_columns": null,
            "flex": null,
            "_model_name": "LayoutModel",
            "justify_items": null,
            "grid_row": null,
            "max_height": null,
            "align_content": null,
            "visibility": null,
            "align_self": null,
            "height": null,
            "min_height": null,
            "padding": null,
            "grid_auto_rows": null,
            "grid_gap": null,
            "max_width": null,
            "order": null,
            "_view_module_version": "1.2.0",
            "grid_template_areas": null,
            "object_position": null,
            "object_fit": null,
            "grid_auto_columns": null,
            "margin": null,
            "display": null,
            "left": null
          }
        }
      }
    }
  },
  "cells": [
    {
      "cell_type": "markdown",
      "metadata": {
        "id": "p90GfuB2k9iV"
      },
      "source": [
        "#Definindo tabuleiro\n",
        "\n",
        "Para o tabuleiro, foi pensado em dividir as jogadas em um vetor representando as linhas horizontais e outro representando as linhas verticais.\n",
        "\n",
        "o número de jogadas válidas está em função da dimensão do tabuleiro(D), exemplo:\n",
        "\n",
        "*   7x7 => D = 7\n",
        "*   4x4 => D = 4\n",
        "\n",
        "A função que representa o número de jogadas em uma partida é:\n",
        "> 2*(D² - D)\n",
        "\n",
        "E o número máximo de pontos:\n",
        "\n",
        "> (D - 1)²\n",
        "\n",
        "representaremos as linhas na vertical por: V; e na horizontal por: H\n",
        "\n",
        "O tabuleiro em si armazenará a contagem de pontuação, ou seja, só os quadrados formados por cada jogador."
      ]
    },
    {
      "cell_type": "code",
      "metadata": {
        "id": "ySWWwywVawu0"
      },
      "source": [
        "#Função que recebe a dimensão do tabuleiro e se é ou não o tabuleiro que está sendo iniciado, inicia os vetores e retorna a respectiva tupla\n",
        "def initPlayeds(d, tab = True):\n",
        "  temp = []\n",
        "  # If ternário que verifica se é o tabuleiro ou não\n",
        "  # Caso seja o tabuleiro ele atribui a quantidade de pontos para a tupla\n",
        "  # se não ele atribui a quantidade de jogadas válidas para a tupla\n",
        "  iterator = (d - 1)**2 if tab else d**2 - d\n",
        "  for i in range(iterator):\n",
        "    temp.append(0)\n",
        "  return tuple(temp)\n"
      ],
      "execution_count": null,
      "outputs": []
    },
    {
      "cell_type": "code",
      "metadata": {
        "id": "u66yBk_9wMda"
      },
      "source": [
        "# Função que define quem ganhou ou se ainda não se sabe\n",
        "def winner(tab):\n",
        "  #Soma todos os pontos já feitos\n",
        "  soma = sum(x for x in tab)\n",
        "  #Verifica se existe 0 na pontuação (pois se tiver 0 quer dizer que o jogo ainda não terminou)\n",
        "  #Ou se a soma da pontuação foi igual a 0, que significa que está empatado\n",
        "  if 0 in tab or soma == 0:\n",
        "    return 0\n",
        "  #Se a soma for maior que 0, o jogador 1 venceu\n",
        "  elif soma > 0:\n",
        "    return 1\n",
        "  # Se não, foi o jogador 2\n",
        "  else:\n",
        "    return -1"
      ],
      "execution_count": null,
      "outputs": []
    },
    {
      "cell_type": "code",
      "metadata": {
        "id": "CjsDK8DX3jon"
      },
      "source": [
        "#Função que define as jogadas válidas de um \"array\"(Lista) e retorna apenas os index que ainda são válidos\n",
        "def getValidList(array):\n",
        "  temp = []\n",
        "  for i in range(len(array)):\n",
        "    if array[i]==0:\n",
        "      temp.append(i)\n",
        "  return temp;"
      ],
      "execution_count": null,
      "outputs": []
    },
    {
      "cell_type": "code",
      "metadata": {
        "id": "og9LJEx41XlG"
      },
      "source": [
        "#Função que define todas as jogadas válidas no tabuleiro\n",
        "def get_valid_moves(h,v):\n",
        "  valids = []\n",
        "  valids.append(getValidList(h))\n",
        "  valids.append(getValidList(v))\n",
        "  return valids"
      ],
      "execution_count": null,
      "outputs": []
    },
    {
      "cell_type": "code",
      "metadata": {
        "id": "i2km8EENqVCR"
      },
      "source": [
        "#função recebe uma lista e retorna um item de forma aleatória\n",
        "def randomLst(lst):\n",
        "  return random.choice(lst)"
      ],
      "execution_count": null,
      "outputs": []
    },
    {
      "cell_type": "code",
      "metadata": {
        "id": "FrHxCmdn5ucj"
      },
      "source": [
        "import random\n",
        "#Definindo o player que joga ao acaso, ele recebe a lista de jogadas na horizontal, a lista de jogadas na vertical e por ultimo qual é a jogada que ele está fazendo;\n",
        "def player(tab,turn):\n",
        "  #Chamamos a função que retorna todas as jogadas válidas do tabuleiro\n",
        "  validmove = get_valid_moves(tab[0],tab[1])\n",
        "  esc = []\n",
        "  #Se existe jogadas válidas na horizontal ele adiciona 0 à escolha\n",
        "  \"\"\"\n",
        "    0 -> indica que é possível realizar jogadas de linhas horizontais\n",
        "    1 -> indica que é possível realizar jogadas de linhas verticais\n",
        "  \"\"\"\n",
        "  if validmove[0]:\n",
        "    esc.append(0)\n",
        "  if validmove[1]:\n",
        "    esc.append(1)\n",
        "  # Se a escolha não estiver vazia, quer dizer que ainda existem jogadas válidas\n",
        "  if esc:\n",
        "    #Escolhe se irá fazer uma jogada na horizontal ou na vertical\n",
        "    HorVert = randomLst(esc)\n",
        "    # Retorna uma lista, onde o primeiro item representa se a linha será vertical ou na horizontal e o segundo item representa qual foi a jogada escolhida\n",
        "    # e também retorna quem fez a jogada\n",
        "    return (HorVert,randomLst(validmove[HorVert])),turn\n",
        "  #Caso não tenha nenhuma jogada válida, a função retorna 0\n",
        "  return 0"
      ],
      "execution_count": null,
      "outputs": []
    },
    {
      "cell_type": "code",
      "metadata": {
        "id": "pS2RmvMUZNq7"
      },
      "source": [
        "#Função que tem o mesmo formato do player ao acaso, porém permite a iteração de um jogador humano\n",
        "def humanPlayer(tab,turn):\n",
        "  #Chamamos a função que retorna todas as jogadas válidas do tabuleiro\n",
        "  validmove = get_valid_moves(tab[0],tab[1])\n",
        "  esc = []\n",
        "  #Informando ao jogador sobre como o tabuleiro se encontra e qual peça ele está jogando\n",
        "  print(\"Sua vez de jogar com as peças: %s\"%turn)\n",
        "  \n",
        "  #O tabuleiro de pontuação é igual (d-1)^2, \n",
        "  #para descobrir a dimensão basta tirar a raiz quadrada do tab de pontuação e somar 1\n",
        "  d = int ((len(tab[2]) ** 0.5) +1)\n",
        "\n",
        "  board = drawBoard(d, tab[0], tab[1], tab[2])\n",
        "  display(board)\n",
        "\n",
        "  #Se existe jogadas válidas na horizontal ele adiciona 0 à escolha\n",
        "  \"\"\"\n",
        "    0 -> indica que é possível realizar jogadas de linhas horizontais\n",
        "    1 -> indica que é possível realizar jogadas de linhas verticais\n",
        "  \"\"\"\n",
        "  if validmove[0]:\n",
        "    esc.append(0)\n",
        "  if validmove[1]:\n",
        "    esc.append(1)\n",
        "  # Se a escolha não estiver vazia, quer dizer que ainda existem jogadas válidas\n",
        "  if esc:\n",
        "    #Caso exista jogadas tanto na vertical quando horizontal\n",
        "    if (len(esc)==2):\n",
        "        \n",
        "      HorVert = int (input(\"Escolha se fará uma linha na vertical(1) ou na horizontal(0): \\n\"))\n",
        "      #Verificando se o usuário digitou uma escolha válida\n",
        "      while HorVert not in [0,1]:\n",
        "        print(\"Entrada inválida! digite apenas 1 ou 0.\")\n",
        "        HorVert = int (input(\"Escolha se fará uma linha na vertical(1) ou na horizontal(0): \\n\"))\n",
        "    else:\n",
        "      print(\"Só é possível realizar jogada com linha %s!\"%(\"vertical\" if esc[0] else \"horizontal\"))\n",
        "      HorVert = esc[0]\n",
        "      \n",
        "    played = int (input(\"Jogadas válidas na %s:\\n%s: \\n\"%(\"vertical\" if HorVert else \"horizontal\",validmove[HorVert])))\n",
        "    while played not in validmove[HorVert]:\n",
        "      print(\"Jogada Inválida!\")\n",
        "      played = int (input(\"Jogadas válidas na %s:\\n%s: \\n\"%(\"vertical\" if HorVert else \"horizontal\",validmove[HorVert])))\n",
        "    #Ao final retorna a jogada e a peça que foi lançada\n",
        "    return (HorVert,played),turn\n",
        "  #Caso não haja jogadas válidas retorna 0 e a peça\n",
        "  return 0,turn"
      ],
      "execution_count": null,
      "outputs": []
    },
    {
      "cell_type": "code",
      "metadata": {
        "id": "dNLQQEAXoH_s"
      },
      "source": [
        "#Função responsável por verificar se o jogador marcou alguma pontuação\n",
        "def marcaPonto(h , v, played, tab, d, turn):\n",
        "  #Dividimos o tabuleiro em 3 partes: as jogadas válidas na vertical, horizontal e a pontuação\n",
        "  # As jogadas na vertical se dá por uma matriz (d-1) x d; se a dimensão for 4 significa que será uma matriz 3x4\n",
        "  # As jogadas na horizontal se dá pela matriz d x (d-1), ou seja, 4x3\n",
        "  # Ao realizar a divisão inteira da jogada pelas colunas da matriz, obtemos o valor correspondente a linha que a jogada se encontra na matriz\n",
        "  result = played[1] // d if played[0] else played[1] // (d-1)\n",
        "  resto = played[1] % d if played[0] else played[1] % (d-1)\n",
        "  point = []\n",
        "\n",
        "  #Analizando se é na vertical(1)\n",
        "  if played[0]:\n",
        "    #Para jogadas na vertical assumimos como verdade que sempre haverá uma linha acima e uma abaixo para formar um quadrado, seja à direita ou à esquerda\n",
        "    #Verificando se não está na última coluna\n",
        "    if resto<(d-1):\n",
        "      # Vericando se já teve uma jogada na coluna da direita e\n",
        "      # se na linha que está \"acima\" houve uma jogada e \n",
        "      # se na linha que está \"abaixo\" houve uma jogada\n",
        "      # Se essas 3 condições forem verdadeiras, significa que acabou de desenhar um quadrado, portanto marcou um ponto\n",
        "      if v[played[1]+1]!=0 and h[played[1] - result]!=0 and h[played[1] + d - (result + 1)]!=0:\n",
        "        #O ponto correpondente a linha vertical que se dá em função da jogada - a linha que a jogada se encotra na matriz\n",
        "        point.append(played[1] - result)\n",
        "    #Verificando se a coluna não é a primeira\n",
        "    if resto>0:\n",
        "      #Verifica se já houve uma jogada na coluna à esquerda e\n",
        "      # se a linha que está na horizontal acima, já foi preenchida e \n",
        "      # se a linha que está na horizontal abaixo já foi preenchida\n",
        "      # Então formou um quadrado, portanto, marcou um ponto\n",
        "      if v[played[1]-1]!=0 and h[played[1] - (result+1)]!=0 and h[played[1] + d - (result+2)]!=0:\n",
        "        #O ponto correpondente a linha vertical que se dá em função da jogada a esquerda - a linha que a jogada se encotra na matriz\n",
        "        point.append(played[1] - (result+1))\n",
        "  else:\n",
        "    #Para jogadas horizontais, assumimos como verdade que sempre haverá uma linha vertical à esquerda e uma a direita para formar um quadrado, seja acima ou abaixo\n",
        "    #Verificando se não se encontra na última linha\n",
        "    if result<(d-1):\n",
        "      #Verificando se houve uma jogada na linha horizontal abaixo e\n",
        "      # se linha vertical na direita e\n",
        "      # se linha vertical a esquerda\n",
        "      #Então marcou um ponto\n",
        "      if h[played[1]+d-1]!=0 and v[played[1] + result]!=0 and v[played[1] + result + 1]!=0:\n",
        "        #O ponto correpondente a linha superior do quadrado\n",
        "        point.append(played[1])\n",
        "    #Verificando se não se encontra na primeira linha\n",
        "    if result>0:\n",
        "      #Verifica se houve jogada acima e\n",
        "      #jogada a direita acima horizontal e\n",
        "      #jogada a esquerda acima da linha horizontal\n",
        "      #Então marcou ponto\n",
        "      if h[played[1]-(d-1)]!=0 and v[played[1] + result-d]!=0 and v[played[1] + result -(d-1)]!=0:\n",
        "        #O ponto correpondente a linha horizontal superior\n",
        "        point.append(played[1]-(d-1))\n",
        "  #Se não for vazio, significa que pontuou\n",
        "  if point:\n",
        "    itab = list(tab)\n",
        "    for el in point:\n",
        "      itab[el] = turn\n",
        "    #atualizamos a tabela de ponto\n",
        "    tab = tuple(itab)\n",
        "    #Como pontuou, a vez de jogar continua com ele\n",
        "    return turn,tab\n",
        "  #Se não pontuou, troca a vez de jogar\n",
        "  return -turn,tab"
      ],
      "execution_count": null,
      "outputs": []
    },
    {
      "cell_type": "code",
      "metadata": {
        "id": "GA9oK-O-g9Fz"
      },
      "source": [
        "def game(player1,player2):\n",
        "  #Variável que representa a dimensão do tabuleiro\n",
        "  d = 4\n",
        "  #Atribuindo a quantidade de jogadas válidas tanto na vertical quanto na horizontal\n",
        "  v = initPlayeds(d,tab = False)\n",
        "  h = v\n",
        "  #Atribuindo o número de pontuações que podem ser adquiridas para o tabuleiro\n",
        "  tab = initPlayeds(d)\n",
        "  turn = 1\n",
        "  result = 0\n",
        "  history = []\n",
        "  #O jogo só termina quando todos os pontos forem preenchidos\n",
        "  while 0 in tab:\n",
        "    played, piece = None,None\n",
        "    if turn==1:\n",
        "      played,piece = player1((h,v,tab),turn)\n",
        "    else:\n",
        "      played,piece = player2((h,v,tab),turn)\n",
        "    #Se a jogada for uma tupla, significa que ainda houve jogadas a serem realizadas\n",
        "    if type(played)==tuple:\n",
        "      #Atualizando o tabuleiro\n",
        "      if played[0]:\n",
        "        itab = list(v)\n",
        "        itab[played[1]] = piece\n",
        "        v = tuple(itab)\n",
        "      else:\n",
        "        itab = list(h)\n",
        "        itab[played[1]] = piece\n",
        "        h = tuple(itab)\n",
        "      #Verificando se o jogador marcou um ponto e verificando quem será o próximo a realizar uma jogada\n",
        "      turn,tab = marcaPonto(h,v,played,tab,d,turn)\n",
        "      #Atualizando o histórico\n",
        "      history.append(((h,v),tab))\n",
        "  #Guardando o resultado da partida, para tabuleiros com dimensão impar é possível haver empate\n",
        "  result = winner(tab)\n",
        "\n",
        "  return result,history"
      ],
      "execution_count": null,
      "outputs": []
    },
    {
      "cell_type": "code",
      "metadata": {
        "id": "ihERkog4_mj8"
      },
      "source": [
        "def championship(player1, player2, countMatch = 1000):\n",
        "  results = [0,0,0]\n",
        "  knowledge = {}\n",
        "  \n",
        "  for i in range(countMatch) :\n",
        "    result, history = game(player1, player2)\n",
        "    results[result] += 1\n",
        "\n",
        "    ## Adicionando as jogadas no histórico\n",
        "    for tab in history :\n",
        "      if not tab in knowledge :\n",
        "        knowledge[tab] = [0, 0, 0]\n",
        "      knowledge[tab][result] += 1\n",
        "\n",
        "  return tuple(results),knowledge"
      ],
      "execution_count": null,
      "outputs": []
    },
    {
      "cell_type": "code",
      "metadata": {
        "id": "QKn9o0j3Hgdd"
      },
      "source": [
        "from PIL import Image, ImageDraw, ImageFont\n",
        "\n",
        "def drawBoard(d, tabH, tabV, tabP):\n",
        "  board = Image.new(\"RGB\", (d*50,d*50), (255,255,255))\n",
        "  draw = ImageDraw.Draw(board)\n",
        "\n",
        "  #desenha os pontos do tabuleiro\n",
        "  for i in range(d):\n",
        "    for j in range(d):\n",
        "      draw.ellipse([(i*50, j*50), (i*50+7, j*50+7)], fill=(0,0,0))\n",
        "\n",
        "  #len(tabH) == len(tabV)\n",
        "  for i in range(len(tabH)):\n",
        "    if tabH[i]:\n",
        "              # 0 representa uma linha horizontal\n",
        "      drawLine([0,i], tabH[i], d, draw)\n",
        "\n",
        "    if tabV[i]:\n",
        "              # 1 representa uma linha vertical\n",
        "      drawLine([1,i], tabV[i], d, draw)\n",
        "\n",
        "    #somente se alguma das duas posicoes estiverem livres ele desenha a posicao\n",
        "    if not tabH[i] or not tabV[i]:\n",
        "      drawPosition(i, d, draw, [tabH[i], tabV[i]])\n",
        "\n",
        "  #desenha no tabuleiro os pontos presentes\n",
        "  for i in range(len(tabP)):\n",
        "    if tabP[i]:\n",
        "      drawScore(str (tabP[i]), i, d, draw)\n",
        "\n",
        "  return board"
      ],
      "execution_count": null,
      "outputs": []
    },
    {
      "cell_type": "code",
      "metadata": {
        "id": "4GDbJ2CDmyJY"
      },
      "source": [
        "def drawPosition(text, d, draw, status):\r\n",
        "  fonte = ImageFont.truetype(\"/usr/share/fonts/truetype/liberation/LiberationSans-Regular.ttf\",10)\r\n",
        "\r\n",
        "  #largura e altura do texto\r\n",
        "  l, a = draw.textsize(str (text), font=fonte)\r\n",
        "  \r\n",
        "  #calcula qual o deslocamento para ficar no meio de um quadrado de lado = 50\r\n",
        "  l = (50 - l) / 2 \r\n",
        "  a = (50 - a) / 2\r\n",
        "\r\n",
        "  #posicao horizontal\r\n",
        "  if not status[0]:\r\n",
        "    #x = (indice % (dimensao-1) * largura do quadrado ) + largura de deslocamento +3 \r\n",
        "    #y =  (indice // (dimensao-1) * altura do quadrado)\r\n",
        "    draw.text((((text % (d-1) * 50) + l +3),(text // (d-1) * 50)), str (text), fill=\"grey\", font=fonte)\r\n",
        "  \r\n",
        "  #posicao vertical\r\n",
        "  if not status[1]:\r\n",
        "    #x = (indice % dimensao * largura do quadrado )\r\n",
        "    #y =  (indice // dimensao * altura do quadrado) + altura de deslocamento\r\n",
        "    draw.text(((text % d * 50),(text // d * 50) + a), str (text), fill=\"black\", font=fonte)"
      ],
      "execution_count": null,
      "outputs": []
    },
    {
      "cell_type": "code",
      "metadata": {
        "id": "1PvjNRV6Hsxv"
      },
      "source": [
        "def drawLine(played, turn, d, draw):\n",
        "  row = played[1] // d if played[0] else played[1] // (d-1)\n",
        "  column = played[1] % d if played[0] else played[1] % (d-1)\n",
        "\n",
        "  color = (52, 92, 235) if turn < 0 else (235, 52, 70)\n",
        "\n",
        "  if played[0]:\n",
        "    #linha vertical\n",
        "              #este valor de +3 é apenas por questão de alinhamento\n",
        "    draw.line([(column*50+3, row*50), (column*50+3, row*50+55)], fill=color, width=3) #v\n",
        "  else:\n",
        "    #linha horizontal\n",
        "    draw.line([(column*50, row*50+3), (column*50+55, row*50+3)], fill=color, width=3) #h"
      ],
      "execution_count": null,
      "outputs": []
    },
    {
      "cell_type": "code",
      "metadata": {
        "id": "z65yUdR_Jq2w"
      },
      "source": [
        "def drawScore(text, cord, d, draw):\n",
        "  fonte = ImageFont.truetype(\"/usr/share/fonts/truetype/liberation/LiberationSans-Regular.ttf\",20)\n",
        "  \n",
        "  # encontra o tamanho da largura e a altura do texto  \n",
        "  l, a = draw.textsize(text, font=fonte)\n",
        "\n",
        "   # x = (largura do quadrado - largura do texto) / 2 + (indice do quadrado % dimensao-1) * area \n",
        "  x = ((50-l) / 2) + (cord % (d-1)) *50\n",
        "  # y = (altura do quadrado - altura do texto) / 2 + (indice do quadrado // dimensao-1) * area \n",
        "  y = ((50-a) / 2) + (cord // (d-1)) *50\n",
        "\n",
        "  draw.text((x,y), text, fill=\"black\", font=fonte)"
      ],
      "execution_count": null,
      "outputs": []
    },
    {
      "cell_type": "code",
      "metadata": {
        "id": "TJVXFv-YHv1l"
      },
      "source": [
        "from ipywidgets import interact\n",
        "\n",
        "def generate_image_history(d, history) :\n",
        "    image_history = []\n",
        "    for i in range(len(history)) :\n",
        "        image_history.append(drawBoard(d, history[i][0][0], history[i][0][1], history[i][1]))\n",
        "    return image_history"
      ],
      "execution_count": null,
      "outputs": []
    },
    {
      "cell_type": "code",
      "metadata": {
        "id": "baE5W1LkHyTe"
      },
      "source": [
        "def display_sequence(images) :\n",
        "    def _show(frame=(0, len(images)-1)) :\n",
        "        return images[frame]\n",
        "    return interact(_show)"
      ],
      "execution_count": null,
      "outputs": []
    },
    {
      "cell_type": "code",
      "metadata": {
        "colab": {
          "base_uri": "https://localhost:8080/",
          "height": 284,
          "referenced_widgets": [
            "d5162292d8a34b2eb2ee0600ada5bdbc",
            "48fb1b8242d0453d8649f29383e7328d",
            "b83418d9d7634465b6b94dcc636bae17",
            "7dfeb3bd955c4b28b173faae2df03917",
            "5735b9c0a32947feabafd246c6618a35",
            "8bcc5a3126de43b486a33a8539ffb10c",
            "e8db5b9f1d344d51a3fb287034be7b52"
          ]
        },
        "id": "3jxRLw8GKDto",
        "outputId": "59a258e9-18ad-4693-dfec-e6eed52dccbd"
      },
      "source": [
        "#Jogador ao acaso contra outro jogador ao acaso\n",
        "result,history = game(player,player)\n",
        "\n",
        "images = generate_image_history(4, history)\n",
        "display_sequence(images)\n",
        "\n",
        "\n",
        "total = len(history[len(history)-1][1])\n",
        "points = history[len(history)-1][1].count(result) if result else total//2\n",
        "print(\"%s\\nPontuação: %s de %s\"%(\"Jogador 1 ganhou\" if result==1 else \"jogador 2 ganhou\" if result else \"empatou\",points,total))\n"
      ],
      "execution_count": null,
      "outputs": [
        {
          "output_type": "display_data",
          "data": {
            "application/vnd.jupyter.widget-view+json": {
              "model_id": "d5162292d8a34b2eb2ee0600ada5bdbc",
              "version_minor": 0,
              "version_major": 2
            },
            "text/plain": [
              "interactive(children=(IntSlider(value=11, description='frame', max=23), Output()), _dom_classes=('widget-inter…"
            ]
          },
          "metadata": {
            "tags": []
          }
        },
        {
          "output_type": "stream",
          "text": [
            "Jogador 1 ganhou\n",
            "Pontuação: 5 de 9\n"
          ],
          "name": "stdout"
        }
      ]
    },
    {
      "cell_type": "markdown",
      "metadata": {
        "id": "llo0zl9D4eDW"
      },
      "source": [
        "#Como jogar:\n",
        "O tabuleiro foi representado da seguinte maneira:\n",
        "* (Para a representação, foi analisado um tabuleiro 4x4)\n",
        "\n",
        "\n",
        "![tabuleiroJogadas.jpg](data:image/jpeg;base64,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)\n",
        "* Quando as jogadas na horizontal junto com a vertical formam um quadrado, o jogador marca um ponto, que é dado pelo seguinte tabuleiro:\n",
        "![tabuleiroPontos.jpg](data:image/jpeg;base64,/9j/4AAQSkZJRgABAQEAYABgAAD/4QAiRXhpZgAATU0AKgAAAAgAAQESAAMAAAABAAEAAAAAAAD/2wBDAAIBAQIBAQICAgICAgICAwUDAwMDAwYEBAMFBwYHBwcGBwcICQsJCAgKCAcHCg0KCgsMDAwMBwkODw0MDgsMDAz/2wBDAQICAgMDAwYDAwYMCAcIDAwMDAwMDAwMDAwMDAwMDAwMDAwMDAwMDAwMDAwMDAwMDAwMDAwMDAwMDAwMDAwMDAz/wAARCAFEAesDASIAAhEBAxEB/8QAHwAAAQUBAQEBAQEAAAAAAAAAAAECAwQFBgcICQoL/8QAtRAAAgEDAwIEAwUFBAQAAAF9AQIDAAQRBRIhMUEGE1FhByJxFDKBkaEII0KxwRVS0fAkM2JyggkKFhcYGRolJicoKSo0NTY3ODk6Q0RFRkdISUpTVFVWV1hZWmNkZWZnaGlqc3R1dnd4eXqDhIWGh4iJipKTlJWWl5iZmqKjpKWmp6ipqrKztLW2t7i5usLDxMXGx8jJytLT1NXW19jZ2uHi4+Tl5ufo6erx8vP09fb3+Pn6/8QAHwEAAwEBAQEBAQEBAQAAAAAAAAECAwQFBgcICQoL/8QAtREAAgECBAQDBAcFBAQAAQJ3AAECAxEEBSExBhJBUQdhcRMiMoEIFEKRobHBCSMzUvAVYnLRChYkNOEl8RcYGRomJygpKjU2Nzg5OkNERUZHSElKU1RVVldYWVpjZGVmZ2hpanN0dXZ3eHl6goOEhYaHiImKkpOUlZaXmJmaoqOkpaanqKmqsrO0tba3uLm6wsPExcbHyMnK0tPU1dbX2Nna4uPk5ebn6Onq8vP09fb3+Pn6/9oADAMBAAIRAxEAPwD9/KKKKACiiigAooooAKKKKACiiigAooooAKKKKACiiigAooooAKKKKACiiigAooooAKKKKACiiigAooooAKKKKACiiigAooooAKKKKACiiigAooooAKKKKACiiigAooooAKKKKACiiigAooooAKKKKACiiigAooooAKKKKACiiigAooozQAUUUZoAKKKKACiijNABRRRmgAooozQAUUUZoAKKKKACiijNABRRmigAooooAKKKM0AFFFGaACiiigAoozRQAUUUZoAKKM0UAFFGcUZoAKKM0ZoAKKM0ZoAKKKKACiiigAooooAKKKKACiiigAoozRQAUUUZoAKKKM0AFFFFABRRRQAUUUUAfGP/AAUn+J/7ZHwVfxF4x+CcX7M9x8MfCvhqTV7+Pxwmttrsk8CTSzrELNlgKGNIwgZgd27cQMGq3/BND4t/tlfHyDwn46+M0P7M1v8ACzxl4ah1uyi8FJria/FLcxRTW6yrds1uFCOwcKzENjaSMmvdv+CgnH7Cfxl/7EjWf/SGavEfB3xEs/hF/wAED9H8UalouoeJNP0D4IW99c6VZX01hcahFHois8SXEJEsBZQR5sZDxjLLyBWEargqr35VFq/nzX/JBJOdSnBac1728uW35s+gfBP7ZPwi+JXxOufA/hv4qfDjxB42sTILnw/pviWyu9Ut/L/1m+2jkMq7f4sqMd8V4n+z5/wU98O6h4o+Mtr8YPGPwz+HNn4J+KF54E8NS6lqsej/ANrQwWVlcKGN1Pia43XL58raNoT5ByT+N/grTPA/gj49/sXal4f+I37HsGtah8RfDsUXhL4OeGkGrWVq/wArvqOtTSyX7MPMSF4rpg8zyEkMyNj6y+B1v+xaP2sP20JP2mG+E3/CTf8ACydQW0Hj94cf2Z9htSf7MW5O37R5hk3m0H2j/UZ/5ZVvyuMm2+ktPNOGq+T+RMpJtJbaO/k+fT8P63P131T4m+HdE8SaDo194g0Oz1jxR5v9i2M99FHc6v5UfmS/Z4ywabZH87bAdq8nA5rwr/go3+3J/wAMp/sm/FTxX4H1Lwfr3jz4aw6dLd6NeXH2r+z/ALZdQxxm6ghlSaMSRO7Jll3bcjIBFfnL+zJ8W9P/AGbvhj/wTr8cfEbVrjwn8N7HXfHGmaNrniaYWsen6RdwXQ0IXc0pAjWSzSEIzEDYEJIAJFX9rb49eEf2kvCH/BSPxR4H1q18SeGZrf4f2drq1kfMs9RMMoikkt5fuzRCRXUSoSjlCVLLgklH3rRvpv0as0rNfMqPTm69no9baP8AE/Xb4x/tSfDX9m7TNNvPiT8RPAvgCHVmMVpJ4k1610mO7cDJWM3EiByBzgZOKyfj/wDF7VvC+ifD/UPCHib4YafaeJvFOm2F1c+KdReGDVdPnLb4dNaJgJdQkUL5CElGO7INfjz+3mviKT/gsd8apPFUn7DPy6LoMXhiP9psXq240j7ICzaTgCzZDeG6EhJM29WHC5z1H7ONrq2nf8E//gHa3XiX4ceJtCtf2rdMTw8/gJtVfw5p1mbqRns7F9Shjle3iuTchGjaaLbgJK2CqxB88Yy2vKP4ySs/NX1+4mtenFryfr8Lf9fefrpb/tWfC+8+Itn4Ph+JHgObxdqF5dafa6IniC0bUrm5tQGuYEtxJ5jSQggyIFLIDlgKh0L9sP4SeJfi3P4B034pfDu/8d2zMkvhy38SWc2rRMv3g1qshmBHcFeK/O39nf8AZr0+++HP7fnxO8H+E9K1D47Wvjzxrp3hTxA1jHPq+mOumoIYLKZlLwbpJpDiMje0nzZGAPnH4oT/ALCdt/wRr8FyfBlvhhH+0UthoreC20E2g+I6+KvOh8ozmP8A03d9q37/ADf3W37vHl0UZc7invaLdtfi7LyK01S7ySvsuWyu/X/M/egnIrys/tw/BeDV/EenN8X/AIXrf+DnSPXrU+KrETaIzzLAi3SebmAtM6RgSBcu6qOSBWX+2vZeOtS/YL+KFv4QN4vxEm8E6muk/wBmEi4Oomyk8ryCOfMMuAmOckV+Lv7VuofsH2X/AASI+Gsfwml+HEHxluJPDsFsnh8pH4rluhe2pv11gR4uTDtWcsLz935ixGP5vKNVT96v7J7e7tq/ebX4WJqStSVRdn8rWevrfT0P3u0f4i6D4h8X614fsNe0e+17w2IG1bTbe9jlvNLE6l4TPErF4hIqlk3gbgCRkCsOf9pD4e2/wjl8fyePPBsfgSBZHk8SNrdsNJjWORo3Jut/kgLIrIctwykHkEV8P+GP2yPhh+xp/wAFef2r4vip438P+AP+Ei8PeEda0Y61eJanW7e3srqGYWisd1xKsg2iKINIxOFVjkD88fHuo+INd/YD/YTuH/4U7afD6613xldXUXxoivY/A/8Aax1C5+wpqX2UbllETXhjWciHcsm7OMVDk7Ll62V+ibv/AJffoaKGrT33t3XLf7j9/PhF8b/Bf7QHhCPxF4D8XeF/Gvh+WVoU1PQNVg1Kzd1OGUSwsyFgeCM5FT+Nfix4W+G93Y23iLxJoOg3GqJcSWcWo6hDavdrbxGadoxIwLiKJWkcrnYiljgDNfll/wAENbTVbT/goP8AExtP8Tfscv4fu/Blm+teH/2eG1Z9AivFuytneTeZCdPS4MRuo2WGdZWVVLRMAXHvn/BWP4QeHfj9+3D+xj4R8XabHrXhnWfFPiL+0NNmY/Z9Qji0Ke4EMyg4khZ4k3xtlHUFWBUkHSrFpRcett/WxFJ8zkn9lN+to83/AAD6ik/bd+DEXwdX4iP8XfhivgCS7+wp4nPimxGjNcZx5Iu/N8kyZBG3dnjpXReNPj14G+G3wyXxp4i8ZeFNA8GyRR3C69qOrW9rpjRyYMbi4kcRbXBBU7sHIxmvzt/Zd/4JjfAHxb/wVD/as8N6l8JvBV/4O8L2/hifRfC8+mxvoOj3F/pshvLm208j7NDPL5EIMqRh1EYClctn5Fj8U+FW/YP/AGJ/h1r1n8ENP82fxnd6V4n+Nd7eXHg/RILK/mtvsxs/PS1u7to5oxEb0skSxNsG+QETJ7KO7tb0er/BDS1u9ur87XX+R+3Xhr9qn4YeMvhPN4+0f4keAtV8C28vky+IrPxBaT6TFJvWPY10shiDeYypgtncwHUgVXh/bA+Etz4D8ReKk+KHw7bwv4RvX03XdYXxHZnT9FukKhre6n8zy4ZVLKCkjKwLDjkV+C3wrh0GL9iX/gpD4b8N+PfAvjrQre48G+XqngLQYPDmgNI86pM1jZ2/7pFV0MfnJkSmHfubOa+7/wDgoF+zj+z7+zP+0P8AsleF/HHg/wAA+Cv2Z49R8QXGqWV1Yw2XhefxH/Z9uunTarkLbySNGl0Fkuc72DbiRmrqRcWlfRpWb7tX1/Jd3YI66dbu/wAkv8/lqfo94A+MXhH4q+AIfFnhbxR4d8SeFrqN5YdZ0rUobzT5UXO5lnjZoyq4OSGwMGud+DX7Xvwn/aK13UtM+HvxQ+HfjvUtHUPf2nh7xHZ6pNZKSVBlSCR2QFgRlgOQRX54/tU/FH9kf4X/APBLb9pZP2ffDvgnxV4Lvtf03T/FVnoup6rp3gqLU7+Wytlna6sHWNbOKMwSXEemuFZE8t9plJPzX+xLp/hPwB/wXE/Zvt/DfxP/AGWvFGoatpHiNNR0f4G+FbTSNK0yL+zWaJbi9gd2vXkaN2Eczl4/JLbRvBLpU+ery7K342v/AMMTKXLT5uv4WTXXufux4n8U6b4K0C+1bWNQs9K0nToXuby9u51gt7SJAWeSSRiFRVAJLMQABXF/Dn9rv4TfGSXRl8IfFD4e+Km8SSXUWkro/iOzvv7Ue1VXuVg8qRvNMKujSBMlA6lsAivlP/gvpaaNcfs//Cubx99qb4K2vxP0WX4lKBIbM6P++CG8EY3G1F6bLeBxkrmvnvwLffsrv/wXf/Z0tf2Z5vh63l+G/FEviWH4fvB/wjis1hGLVttr/oguyqzBzH+8KLF5nAjrKj78pJ9L2t5R5tfXYqt7qT72f3u1vXr6NH6hH9oj4f8A/Cp38ef8Jz4P/wCEHjzu8Rf2zbf2SuJvIObrf5QxMPLPzcP8vXis/wCNX7W3wr/ZsOnr8RviV8P/AAA2qgmyHiTxFaaUbsDqY/PkTfjvtzivxn139tv4W+Gv+DdjxF8Hr3xlosfxZsdfvvD9z4MW4WTXLW5TxRJO7SWikyRwLCC5mYCMDjdvIU6//BRDXPhx8Yv+Ch/x8t/EOv8A7Jnwfn8F6do+manrvxe0V/F/ijWVGnLcrPo2mX032SG3VJhGI7SIyyyKzuCXQBSla3L5/cktV95XKrtPdXVut7pLQ/T345/teat4B/a+/Zz8DeH18P6p4X+MT682oX7B5plistOF3bvayJII8Ox+Ysrhl6bTzXu3ifxRpvgrw/faxrGoWWlaTp0D3N5e3c6w29pEgLPJJIxCoqgElmIAAr8af+CT2rnXPhl/wTCkN7/aCx/8LDt0lJz8scF0iqB/CFCgBf4QAMDFfWv/AAXzs9Fm+APwrn8e/am+Ctr8T9Fk+JSASmzbR/3wQ3gjG42ovTZbwOMlc1riI+yfIt+a1/V2uZ0Zc6u/5W/Vq+nq7WR9WfDj9rn4T/GSbRV8I/FD4e+Km8RvdRaSNH8R2d9/aj2qq9ysHlSN5phV0aQJkoHUtgEVp/8ADRPgAfCdvHn/AAnPg/8A4QeMnf4h/tm2/slMTeQc3W/yhiYeWfm4f5evFfl94Gv/ANleT/gu/wDs6237NE3w9by/DfiiXxLD4AeD/hHFZrBBatttf9EF2VWYOY/3hRYvM4EdeMa7+218LfDf/Buv4i+D174y0WP4s2Ov3/h+58GrcLJrlrcp4okndpLRSZI4FhBczMBGBxu3kKTl0ja930f+Jx08tL/MIO977JpN+qufsz8av2tvhX+zW2nr8RviX8P/AAA2qgmyHiPxFZ6V9sA6mPz5E3477c4rZ8afGbwf8OfhxJ4y8ReLPDWg+EIYUuZNb1LU4bXTY4nxskNxIwjCtuXDFsHIx1r8ZP8Agohrvw3+MX/BRD4+W/iLX/2TPg/P4L03R9M1PXfi9or+LvFGsqNOW5WfRtMvpvskNuqTCMR2kRllkVncEugHJfsn6l8O9d/Yw/4J13Hx+vtJ1D9n2CTxdbahL4gkU+G/7cS4mTSlv1c+WEWNLtUWYeUmCpwMilTi5U+e6Wq32s039+ll3bsOTSatqv1svw7+R+nngX/gpJZ/ET/goXrHgPS9e+H+q/B3T/hRB8Q4fFdjfLOjyHUZ7aVjeLMbY2qRwliQoKsGJfAwPb9A/a9+E/iq38RTaZ8UPh5qUPg+1hvtektfEdnMuiW8yeZDNdFZCII5E+ZWk2hl5BI5r8kPC8P7P0X7ff7Xbfs4R+GU8FTfs237358Lqo8PPqPnTLKbDyv9HMfliEObf915ok/jEla37QXwj+Ef7Mf/AARk/Zh0uz+HHwfsrr4vah4T/tbxF43a5sPDv9ojT5b0ahr8lm8UmoIGEypDdOYN8ylwEj21nGXufda/96cl+CS9fIHb2zj01foowg397bP1k+Cn7TPw3/aY0y8vfhx8QPBPj+x02YQXdx4b1211WK1kIyEkaB3CsRzgkHFfOn/BRf8A4Ko+HP2bf2c/HGsfCvxp8LfGXxH8D6rpNjqXh59Xi1GbTEutUtrKU3Nrb3CTxMqzNjcVAcLkHlT+X37JFndeGv21/wBp3Q/gz8R/g/468XXf7Ompz2I+Cvhm08OaHY6qLlfJgthbMY7u4jEiMLjczgzBMhlxUf7Wlv8AsG3P/BIj4Yv8KY/hm3xjhl8OPZnw8sZ8Vpc/bLRb46v5f+kiPYZwxvP3fmGLZ8xjranFOrCPRuN111k0/l7u/mRVk1GXfWz7WjF6/f8Agz9zvjX+0/8ADX9muzs7r4j/ABD8DeALbUHMdtN4k1610qO5YckI08iBiPQZrrvDniPT/GGiWuqaTf2ep6bfRLPa3dpOs0FzGwyro6kqykcggkGvy98Z/wDDM/8Aw+N/aF/4a3/4VX/a39i+Hv8AhXn/AAs77D/Yv9g/ZD5/2H7d+4877f8AaPMx+8znb8u+vXP+CAk+gy/A/wCMC/DtrlvgfH8UdXT4bBy/2ddL2W5nFpv5+x/bjeGP6vU0/eTv2vptulb11/BroaVPctbulr5q9z65+Nf7T/w0/ZqtLO6+I3xD8DeALXUHMdtN4k1610qO5YckI08iBiPQZrrfDniPT/GGiWuqaTf2ep6bfRLPa3dnOs0FzGwyro6kqykcggkGvy98af8ADNB/4LHftDf8Ncf8Kr/tb+xfD3/Cvf8AhZ32H+xf7B+yHz/sP279x532/wC0eZj95nO35d9euf8ABASfQZfgf8YF+HbXLfA+P4o6uvw2Dlzbrpey3M4tN/P2P7cbwx/V6mn70XftfTZapWv31/BroFb3Grd0tfNXufUXwO+Mepazp3xK1Dxl4q+FN1pvhPxTf2Frc+GdTaSPR9PhSNlh1V5W2w6hHuYzICEUFDgZNbXwT/al+GP7S0N/J8OfiN4D+IEeluI71vDev2mqrZseiyGCR9hPo2K/IP8AaL/sP/hQPxY/4WB9q/4Un/w2dL/wszyt/lf2N5cG37Ts+b7N9s+yeZjnGMV6s8/7N8X/AAVc/Z6X9jFvhOvjGTS/ES+NR8MjZDRm0H+z3MQ1L7D+4Mn9oC0Me/8AebgM8bKmhPmowqtX92Oi1lf2MKjb8ves/JSl5FVo8tScFpaU9XorKrOHKv73u6LvKMetz9EvHH7cHwV+GPj6+8K+JPi/8L/D3ijS7dry80fU/FVjaahaQLH5rSyQSSiREEfzlmUALznHNa/xS/ae+GvwN8E6f4m8bfEPwN4P8N6ts+w6rrevWun2N7vXenlTTOqPuUhhtJyDkcV+EPij/hiH/hxL4+/4Wd/wrn/hqn7Bq3/CR/215f8AwsP/AITP7RLu6/6b5X2rb0/ceXnfxvr2P9ubxD4J+JP7SPwX8F+IJv2X/AepeHfgbpOoHxh8dY5dWsZ7e6fZ9n0jTLiePTTcRtbs8k0imZw6IvyRtnRJ/DdN3irrWLvGpJuL0urQ3dvdalrdRJbXxO6VpaP4laVOKUlrZtz1SvaS5ejkfsfo3xn8H+I/hevjjT/Fnhq/8FvaNqC6/b6nBLpbWyglpxcqxi8sAEl920AHmvm7V/8Agphpnjb9ur4A+Afhf4k+HPj/AOHnxUsfE0ura3o+oJqrW9xpdvbyxxwXFvOYVO6Y+Yrq5xtxt6n8lP2Yb/wlqH/BLO3t/FHiex8W/s76T+1i8XjvUtJ0w6Nod3oBjjaGV7CLBtdPkvHtJDAgCoHXI4zX1J4Rt/2V1/4Lxfs7zfstx/DgXknhXxUniF/ASwf8I2ziwQ2gJtP9F+1DdN5gj/eBDH5nWOtIpc/NZtWbstX/AAFVV9usklteUel7LOpJpcvW+/TSs6elrq/u3erVpJK+5+m/ib9sP4R+Cvixa+AtZ+KXw50nx1esqW/h298S2Vvq07MMqEtXkErFhyAF5q18Wf2pfhj8BJ5ovHXxG8B+C5be1jvpU17X7TTWjt5JfJSZhNIuI2l/dhjwX+UHPFfi38Dz+weP+CSXxB/4Xz/wqv8A4aG2eIf+E5/4SD7H/wALC/4ST7TPv+y7/wDTM+d5fl+R+7x1/wCWle/fs4/s32f7T3/BQL9nK3/aE8K6b448S6J+y7YapqOn+J7KPUIxqv8AaEMbXFxDMrI9ygkk+ZgSru5HOCJoR55xg2nqrtaxadOpU9x9f4e/VSi7K9jTENU1KS6XST3uqlOGq6X9pe3RprXc/Ubxh4/0LwB4M1DxJrutaVo3h3S7Zr681S+u47aytLdV3NNJM5CJGFySzEADqa+L/wDgkr/wUp8bft8eGPiH8SPGGufATS/hfpl1MND07w7rM114h8PwR3N1Hv115JDbw+ZDCksZQJvRixCjivtDxt4G0f4i+DtU8P8AiLSNL13QdWt5LS+03ULVLmzvYHBDRSxOCjoynBVgQR1FfiDovwj+HPw6/wCCHPwD1TXvDGj6F8KvEXxfgb4v3el6clqdU0eDWNTitzqDwqHlto7gWaHJJVAoXA4rF6Tb9EvLmaV36IFrTv8AN99E3ZerP2Y+Cn7Uvwx/aViv5Ph18RfAvj6PS3CXjeHNetdUW0Y8gSGCR9hPo2KyYf25/gnPcXEUfxh+Fsklppx1iZV8V2BaGxE3kG6Yeb8sAm/d+Yfl3/LnPFfn9o0/7MsX/BXP9m9f2Qz8K18RSWWvL4+HwwNkNIfw79hYqNR+w/uDJ9uFqY9/7zcFzxsrxfwl+zf4F+Hv/Bsb8VviJpHhbRLPx/4p0rWhqniZLKMavdRr4hkVITdY83yUWCILGG2L5akDOSdJRtHm6Wv6u9tPL/godNc01C6u2kvJPv5q34pn7BaH+1D8M/EvijxRoem/ETwPqGteCImn8R6fba9azXXh+NQSz3kSyFrdQAcmQKBir3wk+PXgb4++Dm8SeBPGnhXxt4dSV4Dqmg6vb6lZLImN6GaF2TcuRkZyM81+b37Tv/BMH4D+Fv2+P2P/AAzpXwz8N6Xo3i1PEln4ngs4TAfGENrpsV3CmquhDagv2mNJW+0l/MZfn3AkHyb9rD4K6X+zr4W/4KPeEfhf4dXwf4LgtPAl/q2ieF7cWkNrpk8YOsva28eI4i9ks5YIqgqG4zRKyW+v4XuldvtrfyFTvOzWzs/Oz0svM/WD4V/tf/Cf46eL9Q8P+Cfif8PfGOvaSCb7TdD8R2moXlkASpMsUMjOmCCPmA5GK37D4z+D9U0TxDqVr4q8N3Wm+Ebi4tNeuotSheHRZrdQ88V04bbA8SkM6yFSgIJAFfk78eZ/2Mrbx7+ys37IzfCBfjE3xF0RdFPw6NoNWOkHjUxqv2f995J0/wA4Sfa/3md3fzKvWP7a/wAL/wBnH4Ef8FCPh/428ZaL4d8f3njrxTcad4ZurlV1jWo9R02AWbWdrnzbhZCw5jUhB8z7V+as6snGMpJapS02u48treXvfgEdZxXdr5X5t/nH8T9bfDHifTvG/h2x1jR9QstU0nVII7qyvbOdZ7e8hkUMkscikq6MpBDKSCCCDWmDkV4h/wAE0W/413fAn/sQND/9N8Fe3KcmtqseSbj2MqFTnpxm+quLRRRUmoUUUUAZ3iHQLHxZoV5peq2NnqWl6lA9rd2l1Es0F1C4KvHIjAqyMpIKkEEEg1F4e8K6X4T8NWOi6Xpljpei6bbJZ2lhawJDa2sCKESKONQFWNVAUKAAAAAMV87ftUfFzVvGn7Z3wf8AgX4d1vUNDbVkuvHniq6sJHguH0jS5YBFaJKjBo1ub6a3STH3oIp4zxJz8b/8FOv+CdXiD4M+NfAHiLw/+1j+2Xp7fFr4t6X4d1DTYfifJDp2k2epXEzSpZRJCvk+UAFiDF1RQAVbFZ3Ts+knZeetvzuvkDaV2/sq78tLv8LP7j9B/DP7BHwK8EPM2ifBb4TaO1xfwapKbHwhp9sZbuCTzIbhikIzLHJ86OfmVuQQeaveMv2K/g78RLhpfEHwl+GmvTSau+vu+oeGLG6ZtSdI0e+JeIk3LJFEpm++RGgJwox5/wDAD4A6P/wS8/Z38c6x4i+MXxo+Jfh/To5/Eeoax8SfE39vXul28FvmRIZPKj2RbYy2wA5Yk98V8v8A/BIn9pL4ueHP2jE8O/HLWtavJP2lvDB+LPgy11OeVo/DkhuJBd6BbiViUWCzl06YQqBtzOx6nGkYpz5I9Ff5vX8ov7vQmWkOdrrb5bX+V195+g3xV+C3g/47eDJvDfjjwn4a8aeHbh0kl0rXdLg1GylZDlGaGZWQlTyCRwelZM/7LXwyutG1jTZvhz4Fl03xFbWlnq1q+gWjQ6pBZgLaRTp5e2VIAAI1cERgAKBX5w/t/P4V+KH/AAVx8VeE/ih+1/8AFL9mjwfovw60TUtHtvDvxWh8GWmp3c15qKTsUuMxyuEiiyUUMBjJIxj0n/gk/wCNL7X/AI+fHH4VeGfjr4x/aM+Bvh/RtKfSvHeq+IE1TUtM1O7S5F3p8Wr2yoLpkiWGbzEbdAZEXhiTU0/ei5RXd/c7av5FVFyO3p+KTVvvPtf41/stfDL9pbT7G2+I3w68C+P7XS3MlnD4k0G01WO0YjBaNZ43CEjjK44rU1D4LeDdU0LQdJuvCfhu50rwtdQX2i2UumQvb6RcQZ8ia3jK7YZI8nY6AFc8EV4r/wAEyPj7rnxY+D/ifwj4vvLrUvHXwX8UXvgPXdQuCDJrBtdj2l+xGAWuLKa1lc4H7x5BgYr6TIyf5VSS6bOzXzs0yd9Hvs/lozC8I/Dfw/8AD9tWbQdB0fQ212/k1XUjYWcdv/aN5IFElzNsUeZM4VQ0jZY7RknArk/D37Hvwl8K/F24+IGl/C/4d6b49u2Z7jxJa+G7KHVp2YYYtdLGJmLAAEluQK9K7/WgnIqY6O66FWWwm2vj3/go7/wSy8P/ALTP7OnjbSfhh4P+F/hH4k+ONS0i81LxHLpUenz6nHaana3ki3N1bwPPKSsB2hgwLbckDkfYR4FLmiOk1Nbppr5NMUtYuL2Zxvjf9nrwF8TfHeg+KPEngjwh4g8TeFXMmi6vqejW93faOxOS1tPIheE5AOUI5qO4/Zv+Ht18I5PAEngPwZJ4EmEiyeG20S2OkyCSRpHBtdnkkNIzOcryzEnkk13Ao60W0t0Hrucd8HvgD4F/Z48LNofw/wDBfhPwLojSmc6f4e0i30y1Mh6v5UCKu49zjJrT8RfDjw94r8TaHreq6Do2p6x4Zlln0a/u7KOa60mSWMxSvbyMpaFnjZkYoQWVipyDit0DDUgXiqvfcWysjD0b4c6B4e8X614g0/QdGsde8RiBdW1K3so4rzVBApSETyqoeURqxVN5O0EgYBrkvFP7Hvwl8bfC2z8C618Lfhzq3gnTbhry18P3vhuyuNKtp2Z3aVLZ4zErlpJGLBQSXY5yTXpJ6ijODip5b6P+rDuea2/7HXwjstD1PTYfhZ8OYdN1qytdN1G0Tw1ZLBf2tqxe2gmQR7ZIoWJaNGBVCSVANdR8SvhX4X+Mngu88M+MPDeg+KvDuoKqXelavp8V9Y3SqQwEkMqsjAFQQCDggGuizigAkfzqpaqzBabHG+Fv2f8AwH4G+FL+A9E8F+E9F8ESQS2reHrHSLe30kxS58yM2qIItr7m3Ltw245zmuf+Hn7EnwZ+ENxpcvhP4SfDPwvJol5JqGnNpPhexsW0+5kjMTzwmKJfLkaNihdcMVJUnBxXqR+9QOaWt7i5VaxR17w/Y+LNFutN1OztdR0++iaC4tbqFZoZ42GGR0YFWUjgggg18q6t/wAEz9M8Fft0fAPx78MfDfw78A/Dz4WWXiaLVtE0fT00pri41S3t4o5ILe3gELHdCfMZ2Q4243dB9cEbaD+lEfdkprz/ABVvyYS1jyv+tbnmerfscfCLXfEHiXV7/wCFfw5vtW8aRpD4hvLjw1ZyXGuojo6LdyNGWnVXjRgJCwBRSOQKsfEf9kr4V/GDx5pfirxd8M/h/wCKfFGhqqadrGr+HrS+v7BVYsohnljaSMBiSArDBOa9Exn6UDij9NvIb13OJ8Nfs3/DvwXPocmj+AfBekyeGbi8u9Hey0S2t20ma7ybuW3KIPJefc3mMmDJuO4nJrqNe8PWPizRbrTdTsrTUdPvomgubW6hWaG4jYYZHRgVZSOCCCDWhQwyKW6s9g2d0fImsf8ABNDTfBP7c/wD8ffDHw38O/APw9+Fll4mi1bRNH09NKa4uNUt7eKOSC3t4BCx3QnzGdkONuN3Qe26r+xv8I9d1/xLq9/8K/hxfat40jSHxDe3HhqykuNdRHR0W7kaMtOqvGjASFgCikcgV6W3FL92qu7KPbb5u/5tisle3Xf7kv0POviR+yT8K/jD480vxV4u+GngDxR4o0NUTTtY1fw9aX1/p6qxZRDPLG0kYDEkBWGCc1bP7M/w5f4V3fgNvAHgo+B9ReaW78PHQ7X+ybp5pDLKz2uzymLyMzsSp3MxJySTXdA4ajGBU20t0Drc858Kfsj/AAp8D2skGi/DL4faPBLoreGpI7Hw7Z2yPpTOznTyEjANqXd2MP8AqyzsduSa2PE3wI8D+M/hUvgPWPBvhXVvA62sVkvh290m3uNJW3i2+VCLVkMXlptXau3C7RgDArrguKULzQ0noPrc88+Gf7KHwu+C2o6deeD/AIbeAvCd5o9pLp9hNo3h+0sJLK2ldZJYImijUpG7qrMi4VmUEgkA1m6j+w/8FdV13xBql18Ifhhcal4seKTXLuXwpYvPrLRSpLG1y5i3TFJER1MhbayKwwQDXqoGM0dRRre636eQuVWscF8bv2Xfhn+0tZ2Nt8R/h34H8fW+mSGazj8SaDa6qlo5GC0YnjcISOMrg113h7w5p/hHQ7TTNKsbPTdNsYlgtrS0gWGG3jUYVERQFVQMAAAAVeIpR0oV1othnBfG/wDZe+Gf7S1nZW3xG+Hfgfx9b6XIZbOPxJoNrqqWjkYLRieNwhI4yuDXW6B4esPCeh2um6TY2em6dp8SwWtrawrDBbxqMKiIoCqoHAAGAK0TzSdTR0t0/UPU+Xv+Ca/7F/jL9n34C+PrH4033gfxV40+LPjHVfGHia00C0lfw/A975aG0gW6HmSQiOJf9aufmKndjc3s3wS/Za+GX7M9lfW/w3+HXgX4ewamwe7j8NaBaaSt0wGFaQQRoHI7Fs4rvKK0ctLLRcqjpp7sUkl6JJfnuTGNr31u3LXvJtt/Ns/Kj4x/8EiP2pf2gfG/ijQ/F2t/sgapoXiuO40i++LjfDkp8VJdKmUxvF+7jSySX7OzW+5WGE+YYbp+hPjP9i34S/FLwb4V0Hxl8N/A/jrT/BVrHaaKvibQ7XV205ERIwY2uI3KsVRMsuCdozXp1FTH3afs1tp+F7fdd2823u2VP3qjqPfX01tf77K/olskcn4d+AngXwho2vadpPgvwnpen+KpWn1q1tNIt4YdXkaNYi9yioBMxjREJcElVUdABWL8Nv2PPhH8GbrRZvB/wt+HPhSbw410+kyaP4asrFtLa6VVuTAYo1MRmVEEhTG8KobOBXo1FCbTuu1vl29AsrW+fzPOfEX7Hvwj8YfFy2+IGrfC34c6p48s2RrfxJd+GrKfV4CmdhS6aMzKVycYbjPFda3w68Pt8QF8WHQdGPipbA6Uusmyj/tBbMyCU2wn2+Z5JkAfy923cM4zzWzRQm0kl0vbyvo7evUHrv1/TVARkVy+gfBzwj4S+HreEdK8K+HNM8JsksX9iWmmQw6eUlZnlX7OqiPDs7sw2/MWYnJJrqKKlpNWYHn/AMFP2V/hj+zRZ31v8N/h14F+H8GpMJLyPw1oFppKXbAYBkEEaByBwC2cVbb9nj4fn4SzfD//AIQXwf8A8IHdI8c3hv8AsW2/siVXkMrhrXZ5RDSEuQV5YljzzXa0E4qnqC0MHV/hr4d8Q+JtD1rUNB0W+1rwyZjo9/cWMUt1pPnJ5cv2eRlLQ70+RthG5eDkcUmmfDXw7o3ivW9esvD+i2eueJVhTWNRhsYo7rVVhQpCLiULvlEaMyqHJ2gkDANb9FAHmvwo/ZC+E/wH8Xaj4g8D/DH4e+Ddc1jd9v1HQvDlnp13fbm3N5ssMavJliWO4nJOetWvFH7L3wz8bfEW48Ya18O/AuseK7jTpNIl1q90C0uNRlspEaOS1a4eMyGFkZlaMttKsQRgmu/PSgDI+tS9dGGzuZ3hnw1p3gnw9Y6Ro+n2WlaTplvHaWVlZQLBb2cMahUijjUBURVAAVQAAAAK0hRiiqbd7sEklZBRRRQAUUUUAfGXxCtpfAH/AAXQ+HWtagjR6X4/+E+r+GdMuGHyvqFnqNtfPBnpua3eRwOMiF8Zwca//BV34c+IviPYfAD/AIR/QdZ1xtF+NHhnVL8adZSXRsbOKWUy3MuxT5cKAgtI2FXIyRXuvx3/AGddB+P6+F5tWk1Cw1TwXrtr4h0TVNPkSO8066hJDbGZXXy5oXmt5UKkPFPIvBKsvfZ/Ks4wtGEf5ZXXn73N+bsTKKfP/eVn93Lp8j4v/wCCzXwz8V/tWfDL4f8A7Pfh3TfFi6J8aPE8Fj4z1/SLCVo/Dvh+z/0y8d7ry3gt5pjFFBEJuJDKwCvgivnD9q//AII1+KP2N/DXhn48fDH4x/tVfHD4h/A3VbbWtH8KeL/FX/CSxahYtIkGo2drbx26SLLLZtIoEbfMF2lTkY/V49Pu/wD16diqpxcNY73v+Wnp/mype8uV7Wtb13frsvkj8lf23tW8J+Ef+CqeuePPiZ+xz8Xv2jvBvij4ZaBa6M+j/COPxZHo90l1qEs8cougqW82yaIMikuMAMBxXpH/AASt8BX3iX9ubxx8S/h3+z34u/Ze+BeoeD7bR5vC/iLQYfDVx4j11LouL9NJgcx24ht90RlwDN5q8nacfpCe+Kpa9pcmtaJfWcN5dabNeQPCl3a7PPtSykCSPerJvXORuVhkDII4ojaC93pfT1v/AJkzXPv/AHfwt+dj5H/4JaWTeJfjH+1R4+tznQ/GXxTntNLkHPnjS7G00u4kB6FTdW06Aj/nmeT1r7G7Vx/wH+COg/s4/CDw74H8L281vofhu0W0tvPlMs83Vnllc8ySyOWkdzyzuzHk12H3hVbJRXRJX9Fb9AitW+7b+93sOooooKCiiigAooooAKKKKACiiigAooooAKKKKACiiigAooooAKKKKACiiigAooooAKKKKACiiigAooooAKKKKACiiigAooooAKKKKACiiigAooooAKKKKACiiigAooooAKKKKACiiigAooooAKKKKACiiigAooooAKKKKACiiigAooooAKKKKACiiigAooooAKKKKACiiigAoozRQAUUUUAFFFFABRRRQAUUUUAFFFFABRRRQAUUUUAFFFFABRRRQAUUUUAFFFFABRRRQAUUUUAFFFFABRRRQAUUUUAFFFFABRRRQAUUUUAFFFFABRRRQAUUUUAFFFFABRRRQAUUUUAFFFFABRRRQAUV+EP/AAc/f8F/PiN+zL8dpP2dfgZ4i/4RHUNN0pJ/G3iOzib+1Ypb23YxadbPLFi322s0Fybq3Zpd88KxyQNBKJPzT/YP/wCDi/8Aai/Yt+Mtjrmp/Ezxh8WvCtxdwNrnhnxnrU2qx6pboJFMcFzcebNYyYlZhJAQDIkRlSdE8sgH9hH/AAGjO0V4d4N/4KS/AX4g+DtH17S/i94BfTdes4dQszPrUFrMYpYxIheGZklifawzHIiupyGUEEDV/wCG+fgj/wBFa+G//hSWf/xysfb01vJfej0o5LmEkpRoTs/7r/yPXs0E8V5D/wAN9/BL/orXw4/8KSy/+OUf8N9/BL/orXw4/wDCksv/AI5R9Yp/zL70V/YeY/8APif/AIDL/I9cB4oPA9K8j/4b3+CIXd/wtz4b/T/hJLP/AOOV/Nh/wWd/4OLf2gP2if2o/FHhv4b+OfFXwn+FfhnVDDoNt4cnuNF1PWIofNSPUbq62Q3g+0xy+b9lbZFGnkBo3liMz1GrCbtFp/MwxGW4uhD2lalKMb2u4tK/a7W5/VX1/wAaNue9fzV/8G+3/ByD8TvBX7TPhn4Q/tBePpvGPwz8XOdLsfEXia4efUvDF87TSwPJe7HmuYZ55Ft3+1OVhVoXWWGGCRH/AH4/4b4+CIbH/C2/huP+5ks//jlE6kYfE0vViw2X4rEJuhTlK29k3b1sevZozXkJ/b6+CX/RWvhx/wCFJZf/AByj/hvv4Jf9Fa+HH/hSWX/xyp+sU/5l96Oj+w8x/wCfE/8AwGX+R69mjNeQ/wDDffwS/wCitfDj/wAKSy/+OUD9vr4JH/mrXw4/8KWy/wDjlH1in/MvvQf2JmP/AD4n/wCAy/yPXCWFAbcK/ms/4OCf+DkH4neNv2mfE3wi/Z98fTeDfhn4RcaXfeIvDFw8GpeJr5GhlneO92JNbQwTRtbp9lcLMqzO0s0M8aJ4z/wSA/4OUvjh+yT+0b4b0n4ufEbxB8SPg74g1VbfxGviy7n1W/0SKdoYn1G2uyk15/oyxiT7KC8Ui+eqxrLKJk231R5rjJPlktT+rvNGa8hP7fXwSB/5K18N/wDwpbL/AOOUf8N9/BL/AKK18OP/AApLL/45WP1in/MvvR6X9iZj/wA+J/8AgL/yPXs0ZryH/hvv4Jf9Fa+HH/hSWX/xygft9fBL/orXw4/8KSy/+OUfWKf8y+9B/YeY/wDPif8A4DL/ACPXNuO9HT/GvEfE/wDwUZ+BXhDw3qGrXnxW8DzWul20l3Mllq0N7cMkal2EcELPLNIQCFjjRnc4VVZiAf5bf+CgP/Bw3+1T+1t8dNU1G3+Ivjb4O+HdPvrgaR4T8I6vPo40eFvLQw3Fxb+VPeSjyVLPcEhZHmMUcCOYhUKkJ6RafoznxOX4rDpSr05RT2umr+l0f2BUV+EP/BsD/wAF/PiN+018do/2dfjn4i/4S7UNS0p5/BPiO8ib+1ZZbK3Uy6dcvFFi43WsM9yLq4ZZd8EyySTtPEI/3erQ4wooooAKKKKACiiigAooooAKKKKACiiigAooooAKKKKACiiigAooooAKKKKACiiigAooooAKKKKACiiigAooooAKKKKACiiigAooooA/nB/4Ozv+CQXxHj/aw1L9pbwJ4a8QeMfBPi7SoG8XPYI19N4YvLCz8priWGOINDp7WNrC5nZpFSWO48x4g8Cv+W37CP8AwTr+Ln/BRv4zWPg34V+E9Q1iV7uC31PWJIJF0bw4kokZZ7+6VGS3j2QzMoOZJTEyRJJIVQ/3AXxIspivDbDg/hXxD/wQb+Kfib4sfsteJr3xV4i13xJf2/iqeCK51W/lvZo4xZ2bCMPIzMFDM5Cg4yzHuawliFGrGi1rJN/db/M9zB5JUr5ZiM0jJKNGVOLXV+05rNenI7+pvfDr/ghL+zX8Pvh/oOgDwbqmrLoWnW+n/br7X70XV75Uax+dL5MscfmPt3N5caJknaqjAG2P+CKf7NYP/JPZvp/wkGpf/JFfVXT+lGBWUsvwrd3Tj/4Cv8jsp8ccR04KnTx9ZRSskqs0klskubRI+V/+HKn7NX/RPJv/AAoNT/8Akig/8EVP2asf8k8m/wDCg1P/AOSK+qelFT/ZuF/59R/8BX+Rp/r5xL/0MK//AINn/wDJHyof+CK37Nf/AET2b/woNT5/8mK/mL/4Lbf8Ewfi3+wF+1x4tuPFuh6/qnw71TVAnhXxobcTWGqWbiU2dvNcxQxQpqCwW7LLBsjbdBJIiNE0cj/2PYwcDivmf/grx401r4ef8E+vHWsaBqup6Hq1o2niC+0+6e2uYd2oWyttkjIZcqzKcHkMR0JolSw+FhKvCCVk27JJtLXp6F4fM874ixdDKMXi6lRVakYrnnKUVKT5U7Nva+61tc/nL/4N4/8Agin41/b6/ar8JeO/F3hLxBpfwF8LzHWNQ1yfzNOh8RvE8qQ2VhK0Z+05u4NtwYSBFFFMplimaEP/AERj/gir+zWf+aey/wDhQan/APJFeq/sUa/feKf2PvhfqOpXl1qGo33hXTJ7q6uZWmmuJGtImZ3diWZmJJLEkkkk16oBmtJ0KFdKdSCfa6Ttf1OGhnWbZNVq4XA4mpSs2nyTlFNp2u7NX+Z8r/8ADlP9mr/onk3/AIUGp/8AyRR/w5U/Zq/6J5N/4UGp/wDyRX1SaBzWf9m4X/n1H/wFf5HX/r5xL/0MK/8A4Nn/APJHyt/w5U/Zq/6J5N/4UGp//JFH/DlT9mr/AKJ3N/4UGp//ACRX1Rn3oz70f2bhf+fUfuX+Qf6+cS/9DCv/AODZ/wDyR/Jn/wAHDf8AwRT8bfsC/tVeLvHnhHwl4g1T4C+KZhrOn65AZNRh8OPK8STWV/KsY+zYu5ttuZiRLFLCollmWYJ4r/wSA/4JB/Ej/gqV+0f4b03S/DniC1+FdrqyDxd4vWNrWx020haF7u3gu3ikibUGhmjEUAWRt00bughWSRP64v22fEF/4X/Y/wDihqWm3l1p+oWPhXU57a6tpWhmtpFtJWR0dSGVlIBDAgggEV55/wAEhvG2tfET/gn34F1jxBq2p69q102oCa91G6e5uZtuoXKrukkJZsKqqMngADoBW3toxrLDrs35WTS/U4/7Jr1cqnncp3Sqxpu9+ZylGU73/wC3Xfrdmd/w5U/Zq/6J3N/4UGp//JFH/DlT9mr/AKJ5N/4UGp//ACRX1RketGax/s3C/wDPqP8A4Cv8jsXHnEqVlmFf/wAGz/8Akj5X/wCHKn7NX/RPJv8AwoNT/wDkij/hyp+zX/0Tyb/woNT/APkivqmkBo/s3C/8+o/cv8g/184l/wChhX/8Gz/+SPkXxP8A8EP/ANnXxD4a1GwtfCGqaHdX1rJbwalY67ePdae7qVWaJZpJIS6EhlEsckZKjcjLlT/KF/wUS/YQ+M37B37Qes+H/jH4Y1DTtUvNQufsmux2z/2N4m2bJJLiwudiRzxlZ4mZVAeIyqkiRSBo1/t3618N/wDBeT4peJvhR+y54ZvvCviLXvDd/ceKoIJLnSr+Wymkj+yXjGMvGysVLKhKk4yqnsKmpGhg6Uq0IJWWtkk2dGX4jOeKcwoZVi8XOo5ytF1Jykk311b/AAPyn/4NMP8AgkD8Rpf2sNN/aW8eeG/EHg/wT4R0qdvCL36NYzeJ7y/s/KW4ihkiLTaetjdzOJ1aNXlkt/LeUJOqf0fVHZNvs4SepQE/lUlegfGNWdgooooEFFFFABRRRQAUUUUAFFFFABRRRQAUUUUAFFFFABRRRQAUUUUAFFFFABRRRQAUUUUAFFFFABRRRQAUUUUAFFFFABRRRQAUUUUAQ3//AB4zf9c2/lXwH/wbrf8AJpHiz/sb7j/0isa+/L//AI8Zv+ubfyr4D/4N1v8Ak0fxb/2N9x/6RWNebiP98pekv/bT9AyP/kksz/6+Yf8A9yn6AfyrF+IXj7RfhX4G1jxN4i1G10fQdAs5dQ1C+un2Q2dvEheSRz2VVUk/Sto88V8N/wDByJq+oaR/wRX+OUmmyXENxJp9hBI0Odxgk1O0jmU/7JiZw3+yTXXiKjhTclv0+eh8Lh6fPUUH1Zn/AAG/4OHfgj8efi/4P8M/8Iz8YfB2j/Ei/fTPBfjDxP4SfTvDXjC5VxGI7K68xmdmYhRvjTBYK21iBX3oT/Kvwe/4LPQx6B/wbufsU3nhsK+q6fqPg6XRpMYkMh0S4ZSB8vJYKTwOfSv3Z02SSSxhaYbZmQbx79665UlFSV/hk4+tknf8dTjjNvkf80eb01a/T8y0OcV8q/8ABan/AJRqfEP/AK6aZ/6c7WvqkGvlb/gtSf8AjWp8Q/8Arppn/pzta83Mv90q/wCGX5M+y4D/AOSmy/8A6/0v/TkT0z9gT/kyX4S/9ifpP/pHFXr1eQ/sCf8AJkvwl/7FDSf/AEjir16ujD/wo+i/I8fPP+RjX/xy/NlDW9as/DWj3WoahdW9jYWMTz3NxcSrFDbxoCzO7MQFVVBJJIAAzXzz/wAE8v8AgqV8Nf8AgpvB8Qbn4Zw+IJNO+HeuHQri/wBQggjttVf5itxamOaQvA6ruVpBGxBHyin/APBSf/gnNo3/AAUw+G3hnwT4q8XeLvDvg3S9bTVdc0/Qro2zeJoUikQWUz5wISzq5+VjlBt2thh8Q/8ABrP4J0v4Y+I/2xPDehWa6fofh/4s3WnafaozMttbwvPHHGCxJIVVUZJJ45JrWiuaUubZK6Xzim39+h5dTSMWu6T+aen4H64UUUUwPIv2+v8AkyT4tf8AYn6t/wCkcteZf8EUv+Ua3w9/66an/wCnK6r039vr/kyT4tf9ifq3/pHLXmX/AARSP/Gtb4e/9dNT/wDTldV5kv8AkYR/wS/OJ+gUP+SIrf8AYVS/9NVT6qoY7VoqKaFbiFo5FV0cFWVhkMD1BFelK9tD8/Pz5+IH/ByR8EfCXjHxbbaD4L+OXxF8H+AbxrHxN468JeDW1DwroMqEiTz7syoQq4zvVGVhgoXBBr7g+DXxk8M/tCfCvQPG/g3WLbXvC/iiyj1DTb+DIjuYJBlWwwDKexVgGUgggEEV+Vn/AAWh/b/8Cfsw/D/XP2NP2Xfhz4b1j4y/GpbjSdS0HwppMFpaaIt9B5U89wkCojXssB4DY8tB5srKiIsn3h/wSd/Y71D9gb/gnp8L/hTq94uoa54X0snVJEcyRJd3EslzPHGx6xpJM6KeMqoOBnFOjaVJzfdJPvo+a3kml948RHlqqK0um2uy05W/Nn0aPvGvz+/4OKP+TRvCf/Y4W/8A6RX1foCOpr8/v+Dig/8AGI3hP/scLf8A9Ir6vMzn/cqnofe+Fv8AyVmB/wCviPvyw/48Yf8Armv8qmqGw/48Yf8Armv8qmr0z4OfxMKKKKCQooooAKKKKACiiigAooooAKKKKACiiigAooooAKKKKACiiigAooooAKKKKACiiigAooooAKKKKACiiigAooooAKKKKACiiigCvf5FhN/uN/KvgX/g3Y/5NE8W/wDY4XH/AKRWNfbXxh8f2nwn+EvijxTqCeZY+GtIu9VulN3bWe6KCF5WzNdSw28WVQ/PPLFEvV5EUFh8K/8ABvR4m06H4LfEDwna614Q1680jW4dXnuvDni/RvEFsqXcAhjRjYXc8kMgNlIT5yRqwZfLaQrKI/Nrwk8XSkk7JSu+ivy2v6n3GT4uhDhjMcPOaU5VKDjFtXaj7XmaW7Sur22uj9ECcrXGftBfAjwz+098FPE/w/8AGFguqeGPF2ny6ZqNsW2s8Ui4JVuqupwysOVZQRyK7POX96AMmu+cVJcslufERk01Jbn5m/CT/g3m1jSvFHwr0b4m/tHeL/ix8GPgdqi6v4H8B33hqzsRYzRNm3W8vkdpL2OMfKEZFAXKLsQlD+mK8AUMnpSkcircm1a/d+vdvzIUUnf5f8BdhMYr5Y/4LVH/AI1rfEL/AH9M/wDTna19UDgV8kf8FqvG3h3w1+wvqmk+J9Q/smx8XatY6VHenVtC077PKkhvQd2salp1tJlbRl2JcGX5twjZUcry42nKph5wju4tL1a0PouEcdQwWeYPGYl8sKdWnKTs3ZRmm3ZXbsk9FqetfsEHH7Evwk7f8UfpP/pHFXru4n/CvD/+CcHjbSfiB+w78Nb7QbhbrSbXR00qGcajpmoCf7EzWbP52m3l5Znc0DNtiuZdm7YxDq6r7gOPxrajFqCjLdJHnZrWhWxtarTfuylJp9022gY8H6V8o/8ABNH/AIJkt/wTt8W/G7VD42HjD/hcnjS48YeV/Y/9n/2R5zyN9nz58vnY8zG/CZx90Z4+rtwoHWrjo211Vvlo/wBDglqred/n/THUUUUwPIP2+B/xhL8Wv+xP1b/0jlrzP/gioM/8E1vh7/101P8A9OV1XZ/8FLfGtn4E/YR+J15qE2m2treaJLpAnv8AV7HSbW3e9Is45Jbm9mgt441knRm3ShmAKxrJIUjfzX/gh74w0/Xv2CdJ0ex1Dw/qzeD9Xv8ASrm80XxHpeu2NxK8n20GOfT7mdFxHdxqUlMcoZSfL8to5JPPlCX16MrO3K1fpe8dPU+4o4yguD62Gc17R4inJRuuZxVOom7b2TaTe12j7BxmqWtW11d6TdRWdxHa3kkTrBO8fnLE5BCuUyu4A4O3IzjGR1q6enSkK8V2SimmmfEJ2PyD/Zs/4Nr/AI4/sh/Gzxd8R/h/+2jb6P488cySSazrlz8GNN1S8uTJK00oWS8vZTEJJG3OI9ocqm7O1cfpx+y78OfHnwq+CGj6D8SviN/wtbxpYmf7f4o/sC30L+0t0zvH/oduzRR+XGyR/Kfm8vceWNeiH/8AXRnK1pGTUeTotvIUvek5vd6t9/URTx618Af8HEy4/ZF8J/8AY4W//pFfV+gGcCvzv/4OGPEumy/Bb4feE7rWfCGg3mra1Nq0F14j8X6N4ftmS0gMMiL9vu4HmkJvYyPJSRVCt5jRlohJ5+aQlPCVIxTba2W59t4b4uhheJsHiMTNQhGabk2kku7b0R+hmn/8eEP/AFzX+VTVzPwe+IFp8WvhJ4W8Vaemyw8S6RaarbKLu2vAsU8KSpia1lmt5cK4+eCWWJuqSOpDHpq9A+Ll8TCiiigkKKKKACiiigAooooAKKKKACiiigAooooAKKKKACiiigAooooAKKKKACiiigAooooAKKKKACiiigAooooAKKKKACiiigAooooA/ly/4O9v28PGXxk/4KKX3wOa91DT/h78IbTT5ItJS7DWuqapd2SXj6lIgRT5iwXiWyK7SCMRSshT7RKp/MT4BfHzxl+y38ZfD3xB+H3iG/8AC3jPwrdi90zU7NgJLd8FWBVgUkjdGZHjcNHJG7o6sjMp/pI/4OLv+DdLXv8AgpD47tfjR8Gbrw/Y/Eyx0r7Br2g34jsYfFkVvHK9tNFcrH/yEPuWoN0wieIW4Mtutv8Avfzw/YN/4NEP2h/jT8Y7NfjfZ6b8I/h9pt3C+rSx63ZaprOqW5EjPHYJavcQpJmNEaS5ZBGJ1kVLjY0RAP2L0/8A4OD/AIc2Xg7wje694K8cWOq+JPC2i+JZ7TTxa3lvZf2lpttfrAk0ksLS+Wt0qFzEmSpO0DFP/wCIib4Q/wDQp/Ej/wAArL/5Kr7o8L+CNH8E+GdM0PRdH0vR9F0a0isNPsLG1jt7awt4kCRQxRIAkcaIqqqKAFAAAAFaIsLcP/qYv++BXnVKGLcm4VUlfRct7Ltfm1PuMJnHDEKEIYjLqk5pJSkq/Km7atR9k7Jvpd+p8Df8RFHwi/6FP4j/APgDZf8AyXR/xEUfCP8A6FP4j/8AgDZf/Jdfff2CD/njD/3wKPsEH/PGH/vgUvq+N/5/L/wH/wC2Oj+3OEv+hZU/8Kf/ALifAY/4OJvhCB/yKfxI/wDAKy/+Sq/mf/4K3/tPePv2vP29PHXjL4h6pNeX91dbdLsPtZurbw9pbZltNNgby4h5cEcoUsIkMkhllYGSV2b+1r7FCRjyIf8Avkc1/OT/AMFg/wDg04+LEf7RniXx9+zbYeH/ABd4K8Yaq1+vhL7bZ6Lf+GJbhppZoYFl8izbT4mCLEEkWVFmji8pxE077YeniIzvVmmrbKNte97s8nOcyyLEUFDLMHOjO6bcqvtE1Z3VuSFm3Z3v0tY+F/8AghH/AMFKvE3/AATV/bz8NaxZ3GsXvgTxhcR6L4v8P2lykcWr20m5IZtsispmtpZRPGRsdgskPmxpPKT/AESf8RE3whB48J/Ej/wBsv8A5Lr4h/4ICf8ABsJ46/Zp/aJ8PfHP9ohPD2nX3hPfeeHPBUE1vq0seobpoUur+ULJbL5KhLi3FtJI/mvDIZIWgMUn7sfYYc/6mI++wVWIp1560ZqPqr/qjHJMwybDwkszwkqzvo41fZ2XmuSV/wAD4G/4iKPhF/0KfxH/APAGy/8Akuj/AIiKPhF/0KfxH/8AAGy/+S6++/sFv/zxh/74FH2CD/njD/3wK5/q+N/5/L/wH/7Y9z+3OEv+hZU/8Kf/ALifAn/ERR8I/wDoU/iP/wCANl/8l0f8RFHwj/6FP4j/APgDZf8AyXX339gg/wCeMP8A3wKDYQY/1MP/AHwKPq+N/wCfy/8AAf8A7YP7c4S/6FlT/wAKf/uJ/Hf/AMF//wDgoV4s/wCCgP8AwUA17UNUutUtfBPhVY7Lwd4fnullh0e0eCFpJdqIqi4uXAmlJ3spKQ+bJHbxNXh//BOj9uvxl/wTk/a58I/FLwXe6hHLo95FHrGmQXYto/EeltIjXWmzMySJ5cyIAGaNzFII5UAkiRh+03/Bfz/g2E8dftLftE+IPjn+zuvh/Ub7xWI7vxH4Jnmt9Jlk1DMML3VhKVjtm85S9xOLmSN/NSaQSTNOIo/IP+CQH/Bpt8Vrn9ozw348/aU0/wAP+E/BPg/VVv38JG9s9bvvE8tu0MsMU6xefZrp8rF1lDyNK6wyReUglWdPQppqCUnd21e133t0PicVUozryqUIONNttRbu0m9E5WV2lpeyvvZH6fn/AIOKPhFn/kU/iR/4A2X/AMl0n/ERR8I/+hT+I/8A4A2X/wAl199/YIP+eMX/AHwKPsEH/PGH/vgV5/1fGf8AP1f+A/8A2x9tHO+E7a5ZU/8ACj/7ifAn/ERR8I/+hT+I/wD4A2X/AMl0f8RFHwj/AOhT+I//AIA2X/yXX339gtx/yxh/74FH2CD/AJ4w/wDfAo+r4z/n8v8AwH/7YP7c4S/6FlT/AMKf/uJ+evif/g4s+Glt4a1CbRvBPjnUNYitZHsbW9W1tLa5nCExxyzJNK8UbNtDSLFIVBJCORtP8rv7WvxO8cfGn9pLxp4o+JXiS68XeOtU1SVtY1a4fcbqZD5fyAKqpEioqRxoqJHGiIiIqqo/uY8VeCNG8c+GtS0XWtH0vV9G1i1ksb+xvrWO4tr63lQpJFLG4KyRujMrKwIYEggg1/MX+3n/AMGin7RHwY+Md4vwRtNO+Lnw/wBSu5n0maXW7LTNZ0u3AjZI79Lp7eF5MyOiyWzOJBA0jJb71iHRh6deLbrTUl5K36s8TOsfk2IhGOV4SVGSerlU9pddkuSNvxHf8GhP7d/jL4N/8FFLH4HLe6hqHw9+L1pqDy6S92FtdK1S0snvE1KNCjHzGgs3tnVGjEgliZy/2eJR/UZX4/8A/Buj/wAG6Wvf8E3vHd18aPjNdeH774mX2lfYNB0GwEd9D4TiuI4nuZpblo/+Qh9+1JtWMSRG4AluFuP3X7AV1HzQUUUUAFFFFABRRRQAUUUUAFFFFABRRRQAUUUUAFFFFABRRRQAUUUUAFFFFABRRRQAUUUUAFFFFABRRRQAUUUUAFFFFABRRRQAUUUUAQ35xYzf9c2/lXwH/wAG6x/4xH8W/wDY4XH/AKRWNffl/wD8eM3/AFzb+VfAf/But/yaP4t/7G+4/wDSKxrzcR/vlL0l/wC2n3+SJf6p5m/+nmH/APcp+gVJjbS5rhv2jvitqHwP+BfirxZo/hPXvHWraBp0t1ZeHtGiMl9rE6j93bxgA4LNgFsHaMnBxg98pqKcmfAxV3Y7fsKMknpX5QeHP+Cxf7VX7NPxe+AMn7S/wo+FmheA/wBpDU49I0aw8Nz6ja+KPCE8zwiJdTgvGKOyiePekSqV+fJVwIm/V0Ek5q+V8vN6r5q11+KJ5lzW8k/l/SJAMV8q/wDBak/8a1PiJ/100z/052tfVQPSvlX/AILU/wDKNT4h/wDXTTP/AE52tcOZf7pV/wAMvyZ9bwGk+JcvT/5/0v8A0uJ6b+wKc/sS/CX/ALE/Sf8A0iir12vIf2BP+TJfhL/2J+k/+kcVevE4row/8KPovyPHzz/kY1/8cvzY0mjkmsnxt4z0n4deD9U8Qa9qFrpOi6HaS3+oXt1II4LSCJC8krseFVVUsSegBr84f+CNH/BdXxB/wVi/bb+NXhe18P8Ah3Sfhf4Lt47vwpcx29wusXsLTmESXbPKY/nC+YESJCm8KWcqWOkfen7Nb2v6Lz/E8ub5Ie0e10vm3Y/TaiiiqA8j/b6OP2JPi1/2J+rf+kcteY/8EUv+Ua3w9/66an/6c7qvTf2+v+TJPi1/2J+rf+kcteZf8EUv+Ua3w9/66an/AOnK6rzJf8jCP+CX5xP0Cgl/qTWf/UVT/wDTVU+qqKKGO1Sa9M/PxrAAUgOelfl5of8AwUZ/bJ/bM/bl+P3w/wD2cdH/AGabfwP8Edbg0KXUviDDrS3V3csjLKitYzMrFZoZ+saYXZ1Oa/RL4Ajx7/wp3w//AMLQ/wCER/4WD9lH9uf8It9o/sf7Rk5+zfaP33l4x/rOc5pR96Cmtmk13s1dClpPk7bnZjqa/P8A/wCDik/8Yi+E/wDscLf/ANIr6v0AH3jX5/f8HFP/ACaN4T/7HC3/APSK+rzc4/3Opbsff+F0U+K8Cn/z8R9+WBzYw/8AXNf5VNUNh/x4w/8AXNf5VNXpnwcviYUUUUEhRRRQAUUUUAFFFFABRRRQAUUUUAFFFFABRRRQAUUUUAFFFFABRRRQAUUUUAFFFFABRRRQAUUUUAFFFFABRRRQAUUUUAFFFFAEN/8A8eM3/XNv5V8B/wDBut/yaR4t/wCxvuP/AEisa+/L/wD48Zv+ubfyNfAf/But/wAmj+Lf+xvuP/SKxrzcR/vlL0l/7afoGR/8klmf/XzD/wDuU/QBua4n9of9obwd+yr8Hda8ffEDWV8P+EfDqJLqOoNbTXC2qPIkSsUhR3I3uoyFOM5OACR2zcVl+L/Buk/ETwtqGh69pen61omsW0lnf6ff26XFrewSKVeKWNwVdGUkFWBBBIIrvqc3K+S1+lz4CNr6n4nf8Fqde8JfBb4z/s6/tw/DX4gal8Y7/wAYeKrO38N+CPEdzFqmhvYTWi75dHtJI1lsZg8MLOwO9LiZCQrDaf2/tZWlgRmUxsVBKnqDXyj+z1/wQz/ZP/ZY+NMPxE8DfBnQNH8YWszT2t7Pe3t8mnyls+ZbwXM0kMDg/daJFK9FIFfWSoOlXG0afIu7fpdLT8PxIkm6nP5JX72bd7dN7Egr5V/4LU/8o1PiH/100z/052tfVVfKv/Bak/8AGtT4h/8AXTTP/Tna1w5l/udX/DL8mfXcBf8AJTZf/wBf6X/pyJ6Z+wJ/yZL8Jf8AsT9J/wDSOKvXq8h/YE/5Ml+Ev/Yn6T/6RxV69XRh/wCFH0X5Hj55/wAjGv8A45fmz8q/+Dkv4gfFbx1YfDf4J+Fvhj8cPFXwp8ZXq6n8StY+HPhW41rUG0yCVcabDsxEjzMC7eZIvCR/eUurfMP/AARe/ad0Pwb/AMF3/jhp/hn4F/Gnwj4d8Z6bonh/TdCm8JfZp/AlvbWlvHG+rxeafsUBWIbXy5beh/ir98G47V5J8NP2Hvhf8H/2lvHHxg8O+F/7O+InxIhgg8R6sNSu5v7RSFUWMeRJK0Me1UQZijQnHOcmtMP+7nzPrzX872t9y/rU8rEfvKfIvK3bR3v/AF2PXQciiiiqGeRft9f8mSfFr/sT9W/9I5a8y/4Ipf8AKNb4e/8AXTU//TldV6b+31/yZJ8Wv+xP1b/0jlrzL/gil/yjW+Hv/XTU/wD05XVeZL/kYR/wS/OJ+gUP+SIrf9hVL/01VPqqmv8AcP09KdRXoyvbQ/Pz8NPGv/BMr9gP44fsk/tP/GHwL8QPFvizxl4PuNU12+8T6nrV5p994Q1zyTcKIrTy7SNhJPgDzIpC7l40kDJtT7//AOCA/wAePH37SP8AwSc+Evi34l3Goal4pvrO6gk1G/z9p1S3hvJ4be4kJ5dnhSMmQ5Mn3yTuydD40f8ABCP9kn9oL463XxJ8XfBPw7qnjC/uvtt5dR3l7aW1/Pu3NLPawzJbTO7El2kjYyEktuJNfVXh7w9Y+ENCs9L0qxtNN0vTYUtrS0tYlhgtYkUKkcaKAqqqgAKAAAABVUbxpuL6qNl0Vk7tddb/AIdSa3vVE13bv1d7aff/AMMjRH3jX5/f8HFP/Jo3hP8A7HC3/wDSK+r9AR941+f3/BxT/wAmjeE/+xwt/wD0ivq8vOP9yqeh+geFv/JWYH/r4j78sP8Ajxh/65r/ACqaobD/AI8Yf+ua/wAqmr1D4OfxMKKKKCQooooAKKKKACiiigAooooAKKKKACiiigAooooAKKKKACiiigAooooAKKKKACiiigAooooAKKKKACiiigAooooAKKKKACiiigDH8aeIbfwj4O1bVryPUJrXTLKa7mjsLCe/unSNC7CK3gR5ppCAQscSNI5wqqzEA/GX/BDLwDc/CT4D+MPDOoReIl1CHXv7Ud9R8G+IPD0LRT28UaCNtWsLQzuGtpC4hDhA0e4jeoP5Tf8AB2d/wV9+I0v7V+p/s0+A/EniDwf4J8I6VAvi5LB2sZvE93f2fmtbyzRylptPWxuoUMDLGryyXHmJKEgZPy1/YQ/4KI/Fv/gnD8ZLHxl8KvFmoaNKt1BcanozzyNo3iRIhIqwX9qrqlxHsmmVScSRGVnieOQK4ylRjKoqr3V0vna/5HqYbNsTRwVbL6bXs6rhKWmt4c3Lr0+J+p/cN1H8qMivjr4df8F2v2a/iD8P9B18eMtU0ldd0631D7DfaBem6svNjWTyZfJikj8xN21vLkdMg7WYYJ2x/wAFrP2ayf8AkoU31/4R/Uv/AJHrCWYYVOzqR/8AAl/mepT4H4jqQVSngKzi1dNUptNPZp8uqZ9VUdq+V/8Ah9X+zV/0UOb/AMJ/U/8A5Ho/4fV/s1f9FDm/8J/U/wD5Hqf7Swv/AD9j/wCBL/M0/wBQ+Jf+hfX/APBU/wD5E+qATjrXyf8A8FpTe3//AAT88V6PpPh/xd4m1jX73T7SysPDnh2/1y6d0u4rhi0VnDK8cYjgkJkcLGCFXdvdFbY8E/8ABXn9n34ieMtJ8P6P46kutW1y9h0+yg/sPUI/OnmkWONNzQBV3OwGWIAzkkDmv5Yf+Cv3/BXv4kf8FTf2jfEmpap4k8QW/wAK7bVnPhHwg0jWtjptpC0yWtxPaJLJE2oNDNIZZy0jbppERxCscaac1HFUpQhJSTTTaadrq3mc1PD5rw7mNDGYqhKlUpyjOKqRlG7i01o7Nq61t95/Wd/wT3v5L39iD4W+dpuvaRdWfhuz0+5sda0e70i+tp7eJYJUktrqOKZMSRPgsgDrtdSyMrH2deTX8pX/AAbd/wDBXL4lfsdftQ6L4H1rxH4g1z4B6hBLb63ok8hvofC6M8jx39hE8q/Z9t3cbrhYAxlilmbyZplhKf0GD/gtX+zXz/xcKX/wn9S/+R6mWKw9D93Oai0lo2ky6PDueZs5Y/CYSpUjNttwpzkrt3auk1pfufVfSgcV8rD/AILV/s1f9FDm/wDCf1P/AOR6P+H1f7NX/RQ5v/Cf1P8A+R6n+0sL/wA/Y/8AgS/zNv8AUPiX/oX1/wDwVP8A+RPqjHtR+FfK/wDw+r/Zq/6KHN/4T+p//I9H/D6v9mr/AKKJN/4T+p//ACPR/aWF/wCfsfvX+Yf6h8S/9C+v/wCCp/8AyJ6J+340x/Yw+JltbafrOqXmqeH7vTLSz0rTbjUbq4uLmJreJVhgR5CDJKm59uyNNzuURHdfPf8AgjdpmpeGP2CvDPh7WtF8ReH9b8OXt/aX1prGj3WmyK8l1JcoYxPGnnRmKeM+ZFvj3b03b43Vf52f+Dhv/gtZ42/b7/aq8XeA/CPi3xBpfwF8LTDR9P0OASadD4ieJ4nmvb+JZD9pzdw7rcTACKKKFhFFM0xfxX/gkB/wV8+JH/BLX9pDw3qWl+I/EF18K7rVkPi7wgsjXVjqVpM0KXc8Fo8scS6gsMMZinDRtuhjR3MLSRvt7GMqyxC7NeVm07/gcf8Aa9ellU8klCydWNR3vdSjGULW/wC3nfrc/s2wPSjHtXyv/wAPq/2av+iiTf8AhP6n/wDI9H/D6v8AZq/6KHN/4T+p/wDyPWP9pYX/AJ+x/wDAl/mdi4D4lausvr/+Cp//ACJ9UDijrXyv/wAPq/2av+ihzf8AhP6n/wDI9H/D6v8AZq/6KHN/4T+p/wDyPR/aWF/5+x+9f5h/qHxL/wBC+v8A+Cp//In1R0PNfAP/AAcEadrPi79nPwXoPh7wj4+8Xatc+JRfiDw14S1PXPIggtp0keZrSCVYfmuIgolKmTLlAwjcr6J4n/4Lg/s6eH/DGoX9r4u1PXLqxtZbiDTbHQrxLrUHRCywxtNHHCJHICqZZI4wWG51XLD+TX9vL/gof8XP+CjnxkvvGPxW8VahrMrXc8+m6Mk8i6N4cSURq0Fhas7Jbx7IYVYjMkpiV5XkkLOSToYylKlCSkmrOzTa/MrB0s54XzChmWIw0qc4y5oqpCUU2t9HytpXV7H9t3gnxDB4v8GaRq1pHqENrqdlDdwx39hPY3SJJGHUS286JNDIAQGjlRZEOVZVYEDYr+cH/g0w/wCCv/xGj/av039mnx54l8QeMPBPi7Sp18IJfu19N4XvLCz81beKaSUNDp7WNrMggVZFSWO38tIg87P/AEfV3HyTd3cKKKKBBRRRQAUUUUAFFFFABRRRQAUUUUAFFFFABRRRQAUUUUAFFFFABRRRQAUUUUAFFFFABRRRQAUUUUAFFFFABRRRQAUUUUAFFFFAH4Q/8HPf/BAX4jftM/HaT9on4G+Hf+Eu1DUtKSDxt4cs5W/tWWWyt2EWo2ySy4uN1rDBbG1t1WXfBC0cc7TymP8ANH9gz/g3Y/ag/bU+MlloeofDbxb8KPClvdwJrvibxjo02lx6XbuJGMkFtceVNfSYiZRHACBI8QleBH8wf2DX3FlN/uNz+FfAf/Buy3/GI3ixe3/CYXB/8krGuWpiOWtCjb4k3fta353PoMDkTxGU4nNVO3sJU48tt/ac+t76W5OzvfpY+j/B3/BNr4C/D/wbo+gaX8IfAK6boNnDp9mLjRYLqYRRRiNA80yvLK+1RmSR2djksxJJOr/wwN8Ef+iS/Df/AMJuz/8AjdeufjR1FaexpvVxX3I4Y51mEUoxrzsv7z/zPI/+GBPgl/0SX4b/APhNWf8A8bo/4YE+CX/RJfhv/wCE1Z//ABuvXs0Gj6vS/lX3Ir+3Mx/5/wA//Apf5nlOg/sS/B/wvrdnqWm/C/4f2Oo6fOlzbXUHh+0jmt5UYMkiMsYZXUgEMCCCARX8zP8AwWB/4Nsfjh+yL+0Z4k1f4R/DrX/iN8G9f1Vp/DjeFLSfVb7RIp2mlTTrm0DzXn+jLGY/tRDxSL5DNIssphT+rkcV8rf8Fqif+Ha/xD5/5aaZn/wZWtZ1pxw9KVWKXupuy0vZXOrK8PiM6zPDYCvVd6s4wUm3K3NJK9m9bXva69T8Yf8Ag3e/4N4/i9rX7Seh/Fv45+DtQ8B/DHQYpLmLw7r6SWmpeLrkNLFFBNZrIk1vbQzRJcOLtAs6pAgimhmd4/3sb9gb4Ig5/wCFS/Df/wAJuz/+N0fsDsf+GJPhL/2J+k/+kcNeuA5PWqjCFRKbirtJ6pMxrYvGYCtPCUq0koSa0bSdna9k+p5H/wAMCfBH/okvw3/8Juz/APjdH/DAnwS/6JL8N/8AwmrP/wCN169RVewp/wAq+5Gf9uZj/wA/5/8AgUv8zyH/AIYE+CX/AESX4b/+E1Z//G6B+wJ8Eh/zSX4b/wDhNWf/AMbr16ij2FP+Vfcg/tvMf+f8/wDwKX+Z/NT/AMHBf/BuB8TfBH7TXij4u/s/+ApvGHwz8WONUvvDvhm3ebUvDF87QxzpHZb3muYZ55GuE+yoVhVpkaKGGCN38a/4I/8A/Btn8cP2uv2jfDWsfFr4d6/8Ofg3oOrLP4jbxVaT6Vfa3FA0Mr6dbWheG8/0lZBH9qASKNfPZZGliEL/ANLv7e7Y/Yk+LX/Yn6t/6RzV5n/wRUJ/4dr/AA9/39Tx/wCDK6rN4i1dYdL7Ld/RpW/E7oZLKeSzzt1NY1Y0+W2/NGcua9+nLa1tb3uemn9gX4JE/wDJJfhv/wCE1Z//ABuk/wCGBPgl/wBEl+G//hNWf/xuvXs0Vp7Cn/KvuRw/23mP/P8An/4E/wDM8h/4YE+CX/RJfhv/AOE1Z/8Axuj/AIYE+CX/AESX4b/+E1Z//G69eozR7Cl/KvuQf25mP/P+f/gUv8zw/wATf8E6PgX4v8M6lpN38KfAsNrqltJZzSWWkQ2VyqOpVjFPCqSwyAElZI3V0OGVlYAj+WT9vP8A4N2P2oP2KvjNfaHp/wAN/F3xY8K3F3Ouh+JvB2jTarFqlugjYST21v5s1jJiVVMc4AMiSiJ50TzD/YS3Wvz9/wCDiU4/ZE8JjPH/AAmFv/6RX1Y4irDC0ZVoxWivZaX/AAPV4fwOJ4hzXD5XXrte0lypyvK193Ztfmj4l/4Ngf8AggH8Rv2ZvjtH+0V8cvDv/CI6hpulPB4J8OXkrf2rFLe26iXUblIpcW+21mntha3CtLvnmaSOBoIjJ+71Q2BzYw/9c1/lU1dh8vJWdgooooEFFFFABRRRQAUUUUAFFFFABRRRQAUUUUAFFFFABRRRQAUUUUAFFFFABRRRQAUUUUAFFFFABRRRQAUUUUAFFFFABRRRQAUUUUAQ3/8Ax4zf9c2/lXwH/wAG63/JpHi3/sb7j/0isa+/L/8A48Zv+ubfyNfAf/But/yaP4t/7G+4/wDSKxrzcR/vlL0l/wC2n6Bkf/JJZn/18w//ALlP0AY5NeR/tvftm+C/2AP2ZvE3xU8fXF1D4f8ADcSM0NpGJLq+mkdY4beFCQGkkdlUZIA5ZiqqSPXA204r8m/+DxvSdSvv+CWGh3FjHcNa6f4902e+eP7kMRtryNWk/wBnzXiHP8TLXViJNRVnu0r+rS+/U+Fw8VKXvbWb+5XPXf2Tv+Cz3xQ+L/7TPgXwB8S/2R/iR8K9P+KGlf234c1231ZPEMKWmCVl1GOGCNtPX/VqwlJdGlQOqqQ1foOTX4q+PPHPxg/4JU/t6fsgS2/7QPxK+NPh79pm7j0fxZoPiW8hvNLhld7SMXOlwRoqWMCm9V0SEDAgwWdTtH7UqvGfWuycVy3XRtP1T/S616+Rx06jcvJpNej/AOG2H96+Vf8AgtSc/wDBNT4h/wDXTTP/AE52tfVIOK+Vv+C1P/KNT4h/9dNM/wDTna15uZf7pV/wy/Jn2XAf/JTZf/1/pf8ApyJ6Z+wJ/wAmS/CX/sT9J/8ASOKvXsV5D+wJ/wAmS/CX/sUNJ/8ASOKvXq6MP/Cj6L8jx88/5GNf/HL82fLP7Z37Vn7SfwP+KVppPwh/ZS/4Xh4Zl06O5n13/hZul+Gfs9yXkVrb7PdRs7bVWNvMB2nzMdVNeP8A/BKX/gtL44/4KSftPfEb4d61+z83w4s/hfDJDrevWvjeDxHZQ6ks6xLYB4bWOJ3YCd98crgCA8cgjvP+C8v7al3+wf8A8EwfiR4w0e4a38UalbJ4f0GRJRHJDeXjiETITnLRRmWYAAkmLt1Gp/wRN/YV0/8A4J/f8E6Ph/4Njs4ofEWqWSa/4nmA+e61S6RHm3HJ3eWoSEHusK8CtMO787eqjp58z16dl+LXmeXX05VHRv8AJWu9e7f5n1tRRRVAeRft9f8AJknxa/7E/Vv/AEjlrzL/AIIpf8o1vh7/ANdNT/8ATldV6b+31/yZJ8Wv+xP1b/0jlrzL/gilx/wTW+Hv/XTU/wD05XVeZL/kYR/wS/OJ+gUP+SIrf9hVL/01VPqjGRWX4s8VWPgfwvqWtatcLZ6bpNtJeXk7AlYYY0Lu5AycBVJ454rUPTivP/2qvH+i/Cv9mP4heKPEun/2x4d8O+G9R1LU7H/n9tobaSSWLv8AfRWX8a7K8nCnKUbXSvrtofBU4801HzR+b0n/AAc361H8LJPjQ37Lfjo/svjXzoafERPE1l9uc+b5Qm/skoJAhf5N3neXv+Tfv+Wv1M8GeL9N+IPhHTNe0e6ivtJ1m1ivrO5jOUuIZEDxuvsysCPrX8zVv+zr8T7f/ggj/wALok+IFjJ+zCfHA8Qp8BirNG2nf219m+zHXAwvAwmy3lAFeBKf3mVH9HX7KfxF0f4vfsy/D3xV4d0ubQ9B8SeHNP1PTtOmTbJY281tHJFCw7FEZV/CuqMbQknvFpPurxT16elvmc0pP2qtazUttnaVla+u29/kegjrX5/f8HFP/Jo3hP8A7HC3/wDSK+r9AR941+f3/BxQf+MRvCf/AGOFv/6RX1eRnH+5VPQ/RPC3/kq8D/18R9+WH/HjD/1zX+VTVDYf8eMP/XNf5VNXqHwc/iYUUUUEhRRRQAUUUUAFFFFABRRRQAUUUUAFFFFABRRRQAUUUUAFFFFABRRRQAUUUUAFFFFABRRRQAUUUUAFFFFABRRRQAUUUUAFFFFAFe+H+hzemw/hxXwL/wAG7H/Jo3iz/scLj/0isq9s/wCCnf8AwU7+GP8AwS7/AGf7zxX8QNc0+HWtUs75PCnh5pJRdeKb+C2aVbWPyopnhjZ/Kje5eMwwmeLeQXQN+ZH/AAbHf8FsPhbrc2u/BXxrcWPw/wDFXirxFbz+ERe3ss0fiS4uLcxSWokECw28iG0hCCWUG4kvEjjUuAH4a1GcsVTqL4UpX+fLb8mfYZVmmGo8O4/A1JWqVZ0XFWeqh7Tmd9lbmW+99Nj9zcVwf7Rv7OXgv9rT4MeIPh78QdAs/EvhHxNbG11CwuCyrIuQysrqQ8ciMFZHQhkZQykEA13lIx9665RT0a0PkIyad0fEP7H/APwQX+Dv7IHxn8O+PY/EnxY+JeueB7JtO8HL478Tf2ta+DLZlZPJ0+FYo0iQIxVQwfaOVw3NfbnejGDS/XvWjbe5Cik79wZcj+lfK/8AwWq/5Rr/ABC/39M/9OdrX1QFwmK/Kn/g4+/4LB/CH9nD4K6p8DZNZh8RfErXrzTX1fRNPMjXHh2wy14lzK3lmDzGe3t0+zPLHN5d5HOAU27+PHU5Tw1SENW4tL1aPpuDsXRwuf4LFV2owhVpyk3skpptv0SPvn9gY4/Yl+EuP+hP0n/0jir14cV8Df8ABBj/AIKtfCf9vf8AZa8M+DfDWt2tj8RvAOgRW+teFZ2k+3W1pBM1nBdqzxokySpHBLIIDKtu13FE77ihf74U5NbUYtU1F7pI8vOKkamOrVIO6c5NPum3Y+df+CkX/BNLwH/wVF+Enh/wX8QtT8V6donh7X4PEUS6HdQW8lzPDHLGscvnQyq0RWZ8gBW6YYc5+hreFbaBY0XaqgAAdgKkwaOn41pHS6W17/Oy1+5I8+WrTfRWXkt/zHUUUUwPIP2+uf2Jfi1/2J+q/wDpHLXmf/BFUbv+Ca/w9/39T/8ATndV5l/wXm/4Kt/Cj9gj9lrxN4N8S65a33xG+IGgS2+i+FYGkN9c2k8y2c92zJG6QpHHJPLGJzEtw1pLEj7g5Tx//g3A/wCCwXwh/aQ+C2l/AyPWYfDvxK0K81J9I0TUGdbjxFYZW8e5ibyxB5ivcXCfZkmkm8uyknICbtnBKnL65GpbTlav53TsfaUcww64Sq4JyXtXiKckuvKqdRN+ickvmfquvC1Q1zRLPxNo91puoWtvfaffwvb3NtcRiSGeJ1KujqchlZSQQeCDitDGRSBcd67JRUk4yWjPjE7ao/OqT/g2Q/Z7bU302PxF8aofhdLq/wDbb/C5PGsq+DHus53m12ebngDPnbsDGcV+hGh6Ja+G9HtdPsbe3srGxhS3gt4IwkUEagKqKo4VQAAAOABVzHJoC1Suly9CeVX5uoEV+f8A/wAHE3H7IvhL/scLf/0ivq/QDOa/Ef8A4ORv+C0fwZstU0b4J6DrC+L/ABF4V1+4uPFb6RvkHh27toVijs2LosEzyfapxIYpma3ks2ikQOxCcGZ0pVMLOEFdtaI+08PMww+C4jweLxUlGnCacm9ku5+2lh/x4w/9c1/lU1fNX/BMT/gp38L/APgqH+z/AGfir4fa7p8+taXZ2KeK/D6SSm68LX89ssrW0nmxQvNGr+bGlykYhmMEuwko4X6Vr0D46XxMKKKKCQooooAKKKKACiiigAooooAKKKKACiiigAooooAKKKKACiiigAooooAKKKKACiiigAooooAKKKKACiiigAooooAKKKKACiiigD+TP/g7V8TeMtd/4LP+MLXxRHqEei6LoGjWfhF7iwFtHJpZs0nkMLhF+0R/2hNqIMhLkSCSPcBEEX80E5cZ6Z5r+yv/AIK5f8EPPhJ/wV38LabceKm1Dwn8QvDdrNbaJ4u0eOM3USMkhjtruNxi6s0ncTeVujkUiQRTQ+dKX+P/ANhD/gzj+Ef7N3xks/F/xV8f6h8a00O7gvdM0B9Aj0fRpnQSbhfwtNcveR7zC6xh4oyYmWVZ45GjAB658Bf2j/8Agohr3wP8F32q/CHwrfapeaDYzXk+rRQ6ffzzNbxs73Nt9ui8iZmJLxeVFsYsvlpjaOt/4X7/AMFAR/zRf4e/+BcX/wAsq/QXFKRxXnSwEm7+1n98f/kT7yjxthqdNQeV4aVkldxq3durtVSu+uiPz6/4Xz/wUCP/ADRf4e/+BkP/AMsqP+F8/wDBQL/oi/w9/wDAyH/5ZV+gu33pNvvU/wBnT/5/T++P/wAiaf69Yb/oVYX/AMBq/wDy0/Pv/hfX/BQJf+aMfDz/AMDIf/llX8u/7f8Adw6r+1L4u1S41HXNQ8Wavq17feLTrGn/ANn3sOsy3czXiS2/kwiFxITujEahGLLgY2j+40V+WH/BVD/g1Z+En/BQz4yal8SPB/izUPg3468RXaXOvNZ6THqejau+JTNcmz8yB47yZ2iZ5UnEbmN2aFpZZJjtQwkqc+d1JS8m1b8Ejzc34po47DPDwwFCi7p81OM1LTp71SSs+uh+An/BDXxL4y8J/wDBXj9nu68Bx6hNrsvjOys7hbOxF7INMnJg1MlCj7Yxp8l2XkwDFGHkDIUDr/SKfj1/wUC3f8kX+Hn0F5D/APLKqf8AwSB/4NyvhL/wSi8VDxw2sX/xO+K/2WSzi8R6nZR2lro6O8oc6fZgyG3kkgdIpJHmmkIRwjRRzSxN+iBGP/1VeJw7q2tNxt2a19bpnDkWeUsuc3UwtKvzW/iKT5bduWcd763vstj8+/8AhfP/AAUC/wCiL/D3/wADIf8A5ZUf8L5/4KBf9EX+Hv8A4GQ//LKv0F2+5o2+5rm/s6f/AD+n98f/AJE+g/16w3/Qqwv/AIDV/wDlp+fX/C+P+CgX/RF/h7/4GQ//ACyoX48/8FAg3/JF/h5/4GQ//LOv0F2+5o2+5p/2fP8A5/T++P8A8iEuOMM1b+ysL/4DV/8Alp/Fp/wXL8TeMvFn/BXn9oS78eRahDrsXjO9s4FvLEWUh0yAiDTCECJujOnx2hSTBMsZSQs5cu3gn7O3iTxh4N/aA8C6x8O49Qk+IGk+ILC88NJYWAv7p9TjuY3tBFblHE0hnEYWMowc4Xa2cH+rb/gr9/wbkfCT/gq74qPjldX1D4Y/Fj7LHZS+I9Mso7u11hEeIIdQsyYzcSRwI8UciTQyAOgdpY4Yol4D/gld/wAGq/wl/wCCefxl034k+MPFmofGTx14du3udBa80mPTNG0h8RGG5Fn5k7yXkLrKySvOY0MiMsKyxRzD0j4FS1uelN8ef+CgWf8Aki/w8/C8h/8AlnR/wvj/AIKBf9EX+Hv/AIGQ/wDyyr9BdvuaNvua83+z5/8AP6f3x/8AkT76PHGGSt/ZWF/8Bq//AC0/Pr/hfP8AwUCH/NF/h7/4GQ//ACyo/wCF8/8ABQIf80X+Hv8A4GQ//LKv0F2+5o2+5pf2dP8A5/T++P8A8iH+vWG/6FWF/wDAav8A8tPzM+PH7R3/AAUQ0L4G+Nb7SfhD4Us9Us9Bvp7O40mKHUNQt5lt5GR7a2+3S+fMrAFIvKl3sFXy3ztP8nb43/L93PFf37H8q/HH9u//AIM5PhH+0j8Yrzxd8KvH+ofBSPXLue91PQE0CPWNHhdxHtFhCs1s9nHvEztGXljBlVYlgjjWM9eHoOkmnJy9Wv0SPm88zqnmNSM6eGp0LK1qakk/N80pO/zR+Yf/AAaV+JvGOhf8Fn/B9r4Xj1B9F1rQNZs/FzW9gLmOPSxZvPGZnKN9nj/tCHTgJAUJkMce4iUo39ZlfF//AASN/wCCHnwk/wCCRHhbUrjwq2oeLPiF4ktYbbW/F2sRxi6lRUjMltaRoMWtm86Gbyt0kjExiWabyYin2hXQeGFFFFABRRRQAUUUUAFFFFABRRRQAUUUUAFFFFABRRRQAUUUUAFFFFABRRRQAUUUUAFFFFABRRRQAUUUUAFFFFABRRRQAUUUUAFFFFABRRRQAUUUUAFFFFABRiiigAooooAKKKKACiiigAooooAKKKKACiiigAooooAKKKKACiiigAooooAKKKKACiiigAooooAKKKKACiiigAooooAKKKKACiiigAooooAKKKKACiiigAooooAKKKKACiiigAooooAKKKKACiiigAooooAKKKKACiiigAooooAKKKKACiiigAooooAKKKKACiiigAooooAKKKKACiiigAooooAKKKKACiiigAooooAKKKKACiiigAooooAKKKKACiiigAooooAKKKKACiiigAooooAKKKKACiiigAooooAKKKKACiiigAooooAKKKKACiiigAooooAKKKKACiiigAooooAKKKKACiiigAooooAKKKKACiiigAooooAKKKKACiiigAooooAKKKKACiiigAooooAKKKKACiiigAooooAKKKKAP//Z)"
      ]
    },
    {
      "cell_type": "code",
      "metadata": {
        "id": "ZJjQkngaUFLt"
      },
      "source": [
        "#Jogador ao acaso contra jogador humano\n",
        "\n",
        "result,history = game(player,humanPlayer)\n",
        "total = len(history[len(history)-1][1])\n",
        "points = history[len(history)-1][1].count(result) if result else total//2\n",
        "print(\"%s\\nPontuação: %s de %s\"%(\"Jogador 1 ganhou\" if result==1 else \"jogador 2 ganhou\" if result else \"empatou\",points,total))\n",
        "\n",
        "\n",
        "images = generate_image_history(4, history)\n",
        "display_sequence(images)"
      ],
      "execution_count": null,
      "outputs": []
    },
    {
      "cell_type": "code",
      "metadata": {
        "id": "hr7CyJ5vCTZL"
      },
      "source": [
        "results, knowledge = championship(player, player, countMatch = 1000)\n",
        "# Análise do resultado do jogador ao acaso como player 1 e 2 no formato => (Empate, player1Wins, player2Wins)\n",
        "print(results)\n",
        "# Quantidade de tabuleiros gerados\n",
        "print(len(knowledge))"
      ],
      "execution_count": null,
      "outputs": []
    },
    {
      "cell_type": "code",
      "metadata": {
        "id": "soCeZmjUM5CS"
      },
      "source": [
        "def generate_rl_player(state_values, epsilon) :\r\n",
        "  def player(tab, turn) :\r\n",
        "    validmove = get_valid_moves(tab[0],tab[1])\r\n",
        "    esc = []\r\n",
        "    \r\n",
        "    if validmove[0]:\r\n",
        "      esc.append(0)\r\n",
        "    if validmove[1]:\r\n",
        "      esc.append(1)\r\n",
        "\r\n",
        "    epsilon_random = random.random()\r\n",
        "    if esc:\r\n",
        "     \r\n",
        "      if epsilon_random < epsilon :\r\n",
        "        HorVert = randomLst(esc)\r\n",
        "      \r\n",
        "        return (HorVert,randomLst(validmove[HorVert])),turn\r\n",
        "      else :       \r\n",
        "        \r\n",
        "        scores = []\r\n",
        "        next_state = [list(tab[0]),list(tab[1]),list(tab[2])]\r\n",
        "        for escolha in esc:\r\n",
        "\r\n",
        "          for move in validmove[escolha] :\r\n",
        "            next_state[escolha][move] = turn\r\n",
        "\r\n",
        "\r\n",
        "            scores.append(state_values.get((tuple(next_state[0]),tuple(next_state[1]),tuple(next_state[2])), 0))\r\n",
        "            \r\n",
        "        best_score = None\r\n",
        "        if (turn == 1) :\r\n",
        "            best_score = max(scores)\r\n",
        "        else :\r\n",
        "            best_score = min(scores)\r\n",
        "            \r\n",
        "        best_moves = []\r\n",
        "        count_playeds = len(validmove[esc[0]==[]])\r\n",
        "        j = 0\r\n",
        "        k = 0\r\n",
        "        for i in range(len(scores)) :  \r\n",
        "          if scores[i] == best_score :\r\n",
        "            if i<count_playeds:\r\n",
        "              j = 0\r\n",
        "              k = i\r\n",
        "            else:\r\n",
        "              j = 1\r\n",
        "              k = i-count_playeds\r\n",
        "            val = validmove[j][k]\r\n",
        "            best_moves.append((j,val))\r\n",
        "            \r\n",
        "            \r\n",
        "        return random.choice(best_moves),turn\r\n",
        "    \r\n",
        "    return None,None\r\n",
        "  return player"
      ],
      "execution_count": null,
      "outputs": []
    },
    {
      "cell_type": "code",
      "metadata": {
        "id": "FfNLJdWQTTMG"
      },
      "source": [
        "def rewards(tab,last) :\r\n",
        "  pontos = 0\r\n",
        "  if tab[-1]!=last[-1]:\r\n",
        "    pontos = 1 if tab.count(1) != last.count(1) else -1\r\n",
        "  return winner(tab[-1])+pontos\r\n"
      ],
      "execution_count": null,
      "outputs": []
    },
    {
      "cell_type": "code",
      "metadata": {
        "id": "OUAQBSkfTzHh"
      },
      "source": [
        "def update_state_values_monte_carlo(values, rewards, amostra, gamma = 0.9, alpha = 0.1) :\r\n",
        "  \r\n",
        "    discounted_return = 0\r\n",
        "    next_state        = amostra[-1]\r\n",
        "\r\n",
        "    last = next_state\r\n",
        "    for state in reversed(amostra[:-1]) :\r\n",
        "      \r\n",
        "        reward = rewards(next_state,last)\r\n",
        "        discounted_return = gamma*discounted_return + reward\r\n",
        "        \r\n",
        "        values[state] = values.get(state,0) + alpha*(discounted_return - values.get(state, 0))\r\n",
        "        last = next_state\r\n",
        "        next_state = state\r\n",
        "\r\n",
        "    return state_values"
      ],
      "execution_count": null,
      "outputs": []
    },
    {
      "cell_type": "code",
      "metadata": {
        "id": "k0goJyI2UBqp"
      },
      "source": [
        "gamma  = 0.999\r\n",
        "alpha  = 0.001\r\n",
        "state_values = {}\r\n",
        "player_rl = generate_rl_player(state_values, 1)\r\n",
        "\r\n",
        "ITERACOES = 2000\r\n",
        "\r\n",
        "for i in range(ITERACOES) :\r\n",
        "  random_prob = max(0.01, (ITERACOES - i)/ITERACOES) \r\n",
        "\r\n",
        "  _, amostra = game(player_rl, player_rl)\r\n",
        "  state_values = update_state_values_monte_carlo(state_values, rewards, amostra, gamma, alpha)\r\n",
        "  player_rl = generate_rl_player(state_values, random_prob)\r\n",
        "  print(i)\r\n",
        "\r\n",
        "player_rl = generate_rl_player(state_values, 0)\r\n"
      ],
      "execution_count": null,
      "outputs": []
    },
    {
      "cell_type": "code",
      "metadata": {
        "id": "own-V0Uohb7g"
      },
      "source": [
        "results,_ = championship(player, player_rl)\r\n",
        "print(\"Draw = %i, Acaso = %i, RL = %i\" % results)\r\n",
        "\r\n",
        "results,_ = championship(player_rl, player)\r\n",
        "print(\"Draw = %i, RL = %i, Acaso = %i\" % results)"
      ],
      "execution_count": null,
      "outputs": []
    },
    {
      "cell_type": "code",
      "metadata": {
        "id": "THlCV8Hy7OQ_"
      },
      "source": [
        "#Jogador inteligente contra jogador humano\r\n",
        "\r\n",
        "result,history = game(player,humanPlayer)\r\n",
        "total = len(history[len(history)-1][1])\r\n",
        "points = history[len(history)-1][1].count(result) if result else total//2\r\n",
        "print(\"%s\\nPontuação: %s de %s\"%(\"Jogador 1 ganhou\" if result==1 else \"jogador 2 ganhou\" if result else \"empatou\",points,total))"
      ],
      "execution_count": null,
      "outputs": []
    }
  ]
}